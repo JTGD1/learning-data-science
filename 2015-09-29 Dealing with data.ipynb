{
 "cells": [
  {
   "cell_type": "markdown",
   "metadata": {},
   "source": [
    "#Introduction to Data Science\n",
    "## Dealing with data\n",
    "***"
   ]
  },
  {
   "cell_type": "markdown",
   "metadata": {
    "collapsed": true
   },
   "source": [
    "### The command line\n",
    "From the command line, terminal, or shell you can perform almost any computer operation that you would normally use a mouse and graphical interface (GUI) for. In some cases, such as dealing with raw data files, the command line can give a quick way to start exploring.\n",
    "\n",
    "![Terminal](images/terminal.png)"
   ]
  },
  {
   "cell_type": "markdown",
   "metadata": {},
   "source": [
    "#### File system\n",
    "To navigate the folder structure of the machine you are on you will typically use commands such as `ls` (list) and `cd` (change directory). You can make a directory with `mkdir` or move (`mv`) and copy (`cp`) files. To delete a file you can `rm` (remove) it. To print the contents of a file you can `cat` (concatenate) it to the screen.\n",
    "\n",
    "Many commands have options you can set when running them. For example to get a listing of files as a vertical list you can pass the `-l` (list) flag, e.g. `ls -l`. During the normal course of using the command line, you will learn the most useful flags. If you want to see all possible options you can always read the `man` (manual) page for a command, e.g. `man ls`. When you are done reading the `man` page, you can exit by hitting `q` to quit.\n",
    "\n",
    "You can use shell commands in IPython notebooks by prefixing the line with an exclamation point."
   ]
  },
  {
   "cell_type": "code",
   "execution_count": null,
   "metadata": {
    "collapsed": false
   },
   "outputs": [],
   "source": [
    "!ls"
   ]
  },
  {
   "cell_type": "code",
   "execution_count": null,
   "metadata": {
    "collapsed": false
   },
   "outputs": [],
   "source": [
    "!mkdir test"
   ]
  },
  {
   "cell_type": "code",
   "execution_count": null,
   "metadata": {
    "collapsed": false
   },
   "outputs": [],
   "source": [
    "!ls -l"
   ]
  },
  {
   "cell_type": "code",
   "execution_count": null,
   "metadata": {
    "collapsed": false
   },
   "outputs": [],
   "source": [
    "!ls -l images/"
   ]
  },
  {
   "cell_type": "code",
   "execution_count": null,
   "metadata": {
    "collapsed": true
   },
   "outputs": [],
   "source": [
    "!cp images/terminal.png test/some_picture.png"
   ]
  },
  {
   "cell_type": "code",
   "execution_count": null,
   "metadata": {
    "collapsed": false
   },
   "outputs": [],
   "source": [
    "!ls test/"
   ]
  },
  {
   "cell_type": "code",
   "execution_count": null,
   "metadata": {
    "collapsed": false
   },
   "outputs": [],
   "source": [
    "!rm test/ # you can't delete a folder using `rm`!"
   ]
  },
  {
   "cell_type": "code",
   "execution_count": null,
   "metadata": {
    "collapsed": true
   },
   "outputs": [],
   "source": [
    "# WARNING THIS WILL NOT CONFIRM!\n",
    "!rm -rf test/"
   ]
  },
  {
   "cell_type": "code",
   "execution_count": null,
   "metadata": {
    "collapsed": false
   },
   "outputs": [],
   "source": [
    "!ls -l"
   ]
  },
  {
   "cell_type": "markdown",
   "metadata": {},
   "source": [
    "#### Data manipulation and exploration\n",
    "Virtually anything you want to do with a data file can be done at the command line. There are dozens of commands that can be used together to get almost any result! Lets take a look at the the file `data/users.csv`."
   ]
  },
  {
   "cell_type": "markdown",
   "metadata": {},
   "source": [
    "Before we do anything, lets take a look at the first few lines of the file to get an idea of what's in it."
   ]
  },
  {
   "cell_type": "code",
   "execution_count": null,
   "metadata": {
    "collapsed": false
   },
   "outputs": [],
   "source": [
    "!head data/users.csv"
   ]
  },
  {
   "cell_type": "markdown",
   "metadata": {},
   "source": [
    "Maybe we want to see a few more lines of the file,"
   ]
  },
  {
   "cell_type": "code",
   "execution_count": null,
   "metadata": {
    "collapsed": false
   },
   "outputs": [],
   "source": [
    "!head -15 data/users.csv"
   ]
  },
  {
   "cell_type": "markdown",
   "metadata": {},
   "source": [
    "How about the last few lines of the file?"
   ]
  },
  {
   "cell_type": "code",
   "execution_count": null,
   "metadata": {
    "collapsed": false
   },
   "outputs": [],
   "source": [
    "!tail data/users.csv"
   ]
  },
  {
   "cell_type": "markdown",
   "metadata": {},
   "source": [
    "We can count how many lines are in the file by using `wc` (a word counting tool) with the `-l` flag to count lines,"
   ]
  },
  {
   "cell_type": "code",
   "execution_count": null,
   "metadata": {
    "collapsed": false
   },
   "outputs": [],
   "source": [
    "!wc -l data/users.csv"
   ]
  },
  {
   "cell_type": "markdown",
   "metadata": {},
   "source": [
    "It looks like there are three columns in this file, lets take a look at the first one alone. Here, we can `cut` the field (`-f`) we want as long as we give the proper delimeter (`-d` defaults to tab)."
   ]
  },
  {
   "cell_type": "code",
   "execution_count": null,
   "metadata": {
    "collapsed": false
   },
   "outputs": [],
   "source": [
    "!cut -f1 -d',' data/users.csv"
   ]
  },
  {
   "cell_type": "markdown",
   "metadata": {},
   "source": [
    "That's a lot of output. Let's combine the `cut` command with the `head` command by _piping_ the output of one command into another one,"
   ]
  },
  {
   "cell_type": "code",
   "execution_count": null,
   "metadata": {
    "collapsed": false,
    "scrolled": true
   },
   "outputs": [],
   "source": [
    "!cut -f1 -d',' data/users.csv | head"
   ]
  },
  {
   "cell_type": "markdown",
   "metadata": {},
   "source": [
    "We can use pipes (`|`) to string together many commands to create very powerful one liners. For example, lets get the number of unique users in the first column. We will get all values from the first column, sort them, find all unique values, and then count the number of lines,"
   ]
  },
  {
   "cell_type": "code",
   "execution_count": null,
   "metadata": {
    "collapsed": false
   },
   "outputs": [],
   "source": [
    "!cut -f1 -d',' data/users.csv | sort | uniq | wc -l"
   ]
  },
  {
   "cell_type": "markdown",
   "metadata": {},
   "source": [
    "Or, we can get a list of the top-10 most frequently occuring users. If we give `uniq` the `-c` flag, it will return the number of times each value occurs. Since these counts are the first entry in each new line, we can tell `sort` to expect numbers (`-n`) and to give us the results in reverse (`-r`) order. Note, that when you want to use two or more single letter flags, you can just place them one after another."
   ]
  },
  {
   "cell_type": "code",
   "execution_count": null,
   "metadata": {
    "collapsed": false
   },
   "outputs": [],
   "source": [
    "!cut -f1 -d',' data/users.csv | sort | uniq -c | sort -nr | head"
   ]
  },
  {
   "cell_type": "markdown",
   "metadata": {},
   "source": [
    "After some exploration we decide we want to keep only part of our data and bring it into a new file. Let's find all the records that have a negative value in the second and third columns and put these results in a file called `data/negative_users.csv`. Searching through files can be done using _[regular expressions](http://www.robelle.com/smugbook/regexpr.html#expression)_ with a tool called `grep` (Global Regular Expression Printer). You can direct output into a file using a `>`."
   ]
  },
  {
   "cell_type": "code",
   "execution_count": null,
   "metadata": {
    "collapsed": false
   },
   "outputs": [],
   "source": [
    "!grep '.*,-.*,-.*' data/users.csv > data/negative_users.csv"
   ]
  },
  {
   "cell_type": "markdown",
   "metadata": {},
   "source": [
    "We can check the data folder to see if our new file is in there,"
   ]
  },
  {
   "cell_type": "code",
   "execution_count": null,
   "metadata": {
    "collapsed": false
   },
   "outputs": [],
   "source": [
    "!ls -l data"
   ]
  },
  {
   "cell_type": "markdown",
   "metadata": {},
   "source": [
    "#### Using Python, IPython, and Pandas\n",
    "The command line is great for a first step in data exploration. However, to do some more in depth operations you will generally want to move to a language and environment better suited for involved data manipulation. Here, we will discuss the use of Python as a data crunching tool.\n",
    "\n",
    "There are many ways to read data in Python. Here we will discuss two options: (1) reading line by line (streaming) and (2) using Pandas to create data frames.\n",
    "\n",
    "Reading in data line by line can be slightly less structured since it depends on you knowing or determining what each line looks like. For structured data, this might be an unnecessary waste of time. However, for highly unstructed data, this can be very useful."
   ]
  },
  {
   "cell_type": "code",
   "execution_count": null,
   "metadata": {
    "collapsed": false
   },
   "outputs": [],
   "source": [
    "# Read in the data/users.csv file line by line\n",
    "file = open(\"data/users.csv\", \"r\")\n",
    "for line in file:\n",
    "    # Break up the line\n",
    "    user, variable1, variable2 = line.split(\",\")\n",
    "\n",
    "    # Skip the header row\n",
    "    if user == \"user\":\n",
    "        continue\n",
    "\n",
    "    # Print the user and the sum of variable1 and variable2\n",
    "    print \"%s: %.3f\" % (user, float(variable1) + float(variable2))"
   ]
  },
  {
   "cell_type": "markdown",
   "metadata": {},
   "source": [
    "For structured data like we have here, Pandas may make more sense."
   ]
  },
  {
   "cell_type": "code",
   "execution_count": 86,
   "metadata": {
    "collapsed": false
   },
   "outputs": [],
   "source": [
    "# Read in data/users.csv using Pandas\n",
    "import pandas as pd\n",
    "users = pd.read_csv(\"data/users.csv\")"
   ]
  },
  {
   "cell_type": "code",
   "execution_count": 87,
   "metadata": {
    "collapsed": false
   },
   "outputs": [
    {
     "data": {
      "text/html": [
       "<div style=\"max-height:1000px;max-width:1500px;overflow:auto;\">\n",
       "<table border=\"1\" class=\"dataframe\">\n",
       "  <thead>\n",
       "    <tr style=\"text-align: right;\">\n",
       "      <th></th>\n",
       "      <th>user</th>\n",
       "      <th>variable1</th>\n",
       "      <th>variable2</th>\n",
       "    </tr>\n",
       "  </thead>\n",
       "  <tbody>\n",
       "    <tr>\n",
       "      <th>0</th>\n",
       "      <td> parallelconcerned</td>\n",
       "      <td> 145.391881</td>\n",
       "      <td>-6.081689</td>\n",
       "    </tr>\n",
       "    <tr>\n",
       "      <th>1</th>\n",
       "      <td>          driftmvc</td>\n",
       "      <td> 145.788700</td>\n",
       "      <td>-5.207083</td>\n",
       "    </tr>\n",
       "    <tr>\n",
       "      <th>2</th>\n",
       "      <td>    snowdonevasive</td>\n",
       "      <td> 144.295861</td>\n",
       "      <td>-5.826789</td>\n",
       "    </tr>\n",
       "    <tr>\n",
       "      <th>3</th>\n",
       "      <td>     cobolglaucous</td>\n",
       "      <td> 146.726242</td>\n",
       "      <td>-6.569828</td>\n",
       "    </tr>\n",
       "    <tr>\n",
       "      <th>4</th>\n",
       "      <td>       stylishmugs</td>\n",
       "      <td> 147.220050</td>\n",
       "      <td>-9.443383</td>\n",
       "    </tr>\n",
       "  </tbody>\n",
       "</table>\n",
       "</div>"
      ],
      "text/plain": [
       "                user   variable1  variable2\n",
       "0  parallelconcerned  145.391881  -6.081689\n",
       "1           driftmvc  145.788700  -5.207083\n",
       "2     snowdonevasive  144.295861  -5.826789\n",
       "3      cobolglaucous  146.726242  -6.569828\n",
       "4        stylishmugs  147.220050  -9.443383"
      ]
     },
     "execution_count": 87,
     "metadata": {},
     "output_type": "execute_result"
    }
   ],
   "source": [
    "# Take a look at the Panda's DataFrame\n",
    "users.head()"
   ]
  },
  {
   "cell_type": "code",
   "execution_count": 88,
   "metadata": {
    "collapsed": false
   },
   "outputs": [
    {
     "data": {
      "text/html": [
       "<div style=\"max-height:1000px;max-width:1500px;overflow:auto;\">\n",
       "<table border=\"1\" class=\"dataframe\">\n",
       "  <thead>\n",
       "    <tr style=\"text-align: right;\">\n",
       "      <th></th>\n",
       "      <th>user</th>\n",
       "      <th>variable1</th>\n",
       "      <th>variable2</th>\n",
       "      <th>sum</th>\n",
       "    </tr>\n",
       "  </thead>\n",
       "  <tbody>\n",
       "    <tr>\n",
       "      <th>0</th>\n",
       "      <td> parallelconcerned</td>\n",
       "      <td> 145.391881</td>\n",
       "      <td>-6.081689</td>\n",
       "      <td> 139.310192</td>\n",
       "    </tr>\n",
       "    <tr>\n",
       "      <th>1</th>\n",
       "      <td>          driftmvc</td>\n",
       "      <td> 145.788700</td>\n",
       "      <td>-5.207083</td>\n",
       "      <td> 140.581617</td>\n",
       "    </tr>\n",
       "    <tr>\n",
       "      <th>2</th>\n",
       "      <td>    snowdonevasive</td>\n",
       "      <td> 144.295861</td>\n",
       "      <td>-5.826789</td>\n",
       "      <td> 138.469072</td>\n",
       "    </tr>\n",
       "    <tr>\n",
       "      <th>3</th>\n",
       "      <td>     cobolglaucous</td>\n",
       "      <td> 146.726242</td>\n",
       "      <td>-6.569828</td>\n",
       "      <td> 140.156414</td>\n",
       "    </tr>\n",
       "    <tr>\n",
       "      <th>4</th>\n",
       "      <td>       stylishmugs</td>\n",
       "      <td> 147.220050</td>\n",
       "      <td>-9.443383</td>\n",
       "      <td> 137.776667</td>\n",
       "    </tr>\n",
       "  </tbody>\n",
       "</table>\n",
       "</div>"
      ],
      "text/plain": [
       "                user   variable1  variable2         sum\n",
       "0  parallelconcerned  145.391881  -6.081689  139.310192\n",
       "1           driftmvc  145.788700  -5.207083  140.581617\n",
       "2     snowdonevasive  144.295861  -5.826789  138.469072\n",
       "3      cobolglaucous  146.726242  -6.569828  140.156414\n",
       "4        stylishmugs  147.220050  -9.443383  137.776667"
      ]
     },
     "execution_count": 88,
     "metadata": {},
     "output_type": "execute_result"
    }
   ],
   "source": [
    "# Add another column to this DataFrame\n",
    "users['sum'] = users['variable1'] + users['variable2']\n",
    "users.head()"
   ]
  },
  {
   "cell_type": "markdown",
   "metadata": {},
   "source": [
    "Python and Pandas allow us to do complex tasks very easily, such as plotting.\n",
    "\n",
    "Let's visualize the relationship between variable1 vs. variable2 in these data with a scatterplot."
   ]
  },
  {
   "cell_type": "code",
   "execution_count": 98,
   "metadata": {
    "collapsed": false
   },
   "outputs": [
    {
     "data": {
      "text/plain": [
       "[<matplotlib.lines.Line2D at 0x10d05e9d0>]"
      ]
     },
     "execution_count": 98,
     "metadata": {},
     "output_type": "execute_result"
    },
    {
     "data": {
      "image/png": "[encoded data removed]",
      "text/plain": [
       "<matplotlib.figure.Figure at 0x10bddf4d0>"
      ]
     },
     "metadata": {},
     "output_type": "display_data"
    }
   ],
   "source": [
    "import matplotlib.pyplot as plt\n",
    "plt.plot(users['variable1'], users['variable2'], \".\", markersize=0.75)"
   ]
  },
  {
   "cell_type": "markdown",
   "metadata": {},
   "source": [
    "We can update our DataFrame given the new information we discovered."
   ]
  },
  {
   "cell_type": "code",
   "execution_count": 99,
   "metadata": {
    "collapsed": false
   },
   "outputs": [
    {
     "data": {
      "text/html": [
       "<div style=\"max-height:1000px;max-width:1500px;overflow:auto;\">\n",
       "<table border=\"1\" class=\"dataframe\">\n",
       "  <thead>\n",
       "    <tr style=\"text-align: right;\">\n",
       "      <th></th>\n",
       "      <th>user</th>\n",
       "      <th>longitude</th>\n",
       "      <th>latitude</th>\n",
       "      <th>sum</th>\n",
       "    </tr>\n",
       "  </thead>\n",
       "  <tbody>\n",
       "    <tr>\n",
       "      <th>0</th>\n",
       "      <td> parallelconcerned</td>\n",
       "      <td> 145.391881</td>\n",
       "      <td>-6.081689</td>\n",
       "      <td> 139.310192</td>\n",
       "    </tr>\n",
       "    <tr>\n",
       "      <th>1</th>\n",
       "      <td>          driftmvc</td>\n",
       "      <td> 145.788700</td>\n",
       "      <td>-5.207083</td>\n",
       "      <td> 140.581617</td>\n",
       "    </tr>\n",
       "    <tr>\n",
       "      <th>2</th>\n",
       "      <td>    snowdonevasive</td>\n",
       "      <td> 144.295861</td>\n",
       "      <td>-5.826789</td>\n",
       "      <td> 138.469072</td>\n",
       "    </tr>\n",
       "    <tr>\n",
       "      <th>3</th>\n",
       "      <td>     cobolglaucous</td>\n",
       "      <td> 146.726242</td>\n",
       "      <td>-6.569828</td>\n",
       "      <td> 140.156414</td>\n",
       "    </tr>\n",
       "    <tr>\n",
       "      <th>4</th>\n",
       "      <td>       stylishmugs</td>\n",
       "      <td> 147.220050</td>\n",
       "      <td>-9.443383</td>\n",
       "      <td> 137.776667</td>\n",
       "    </tr>\n",
       "  </tbody>\n",
       "</table>\n",
       "</div>"
      ],
      "text/plain": [
       "                user   longitude  latitude         sum\n",
       "0  parallelconcerned  145.391881 -6.081689  139.310192\n",
       "1           driftmvc  145.788700 -5.207083  140.581617\n",
       "2     snowdonevasive  144.295861 -5.826789  138.469072\n",
       "3      cobolglaucous  146.726242 -6.569828  140.156414\n",
       "4        stylishmugs  147.220050 -9.443383  137.776667"
      ]
     },
     "execution_count": 99,
     "metadata": {},
     "output_type": "execute_result"
    }
   ],
   "source": [
    "users.columns = ['user', 'longitude', 'latitude', 'sum']\n",
    "users.head()"
   ]
  },
  {
   "cell_type": "markdown",
   "metadata": {},
   "source": [
    "#### Another example\n",
    "Let's grab a slightly modified version of the survey data from your first homework assignment. It's located on the web, so let's save time by downloading it straight from the command line and placing it in the correct folder."
   ]
  },
  {
   "cell_type": "code",
   "execution_count": 100,
   "metadata": {
    "collapsed": false
   },
   "outputs": [
    {
     "name": "stdout",
     "output_type": "stream",
     "text": [
      "  % Total    % Received % Xferd  Average Speed   Time    Time     Time  Current\n",
      "                                 Dload  Upload   Total   Spent    Left  Speed\n",
      "100 10324  100 10324    0     0  66539      0 --:--:-- --:--:-- --:--:-- 67477\n"
     ]
    }
   ],
   "source": [
    "!curl -o data/ds_survey.csv www.moakler.org/ds/ds_survey.csv"
   ]
  },
  {
   "cell_type": "markdown",
   "metadata": {},
   "source": [
    "Now that we have the data, let's take a look at what we have."
   ]
  },
  {
   "cell_type": "code",
   "execution_count": 101,
   "metadata": {
    "collapsed": false
   },
   "outputs": [
    {
     "name": "stdout",
     "output_type": "stream",
     "text": [
      "timestamp,professional_experience,programming_languages,full_time,season,data_visualization,python,mathematics,statistics,machine_learning,business_strategy,communication,fruit,degree,terminal,why,regression,databases,cloud,api\r\n",
      "9/22/2015 20:51:41,1,\"C/C++, Matlab/Octave\",No,Fall,7,1,10,8,2,8,9,Oranges,MSDS,1,\"First, this is a required. : ) Second, I love to planning and I recognized that getting data and using them in the right way can help me plan events that gain more pleasures from the participants. I took intro. class back in my undergraduate in Syracuse University and it was one of  my favorite classes I've took, cuz instead of reciting stuff, I really learned how to complete some real life task and have fun with the knowledge I just earned. I hope this intro class will give me a good idea on what is going on in the \"\"datalized\"\" world. \",No,No,No,No\r\n",
      "9/22/2015 22:11:41,1,\"Python, C/C++, Matlab/Octave\",No,Summer,7,5,7,7,1,7,6,Apples,MS systems engineering,4,Lear more about programming language practices and projects in business strategy,Yes,Yes,No,No\r\n",
      "9/23/2015 1:11:15,5,\"Python, Java, JavaScript\",No,Fall,7,7,8,7,4,7,8,Apples,MSIS,8,I hope to understand the process of analyzing the data so as to create models that can predict future outcomes.  I can utilize these skills later on in my profession.  ,No,Yes,Yes,Yes\r\n",
      "9/23/2015 1:49:38,5,\"Java, C/C++, JavaScript, Matlab/Octave\",No,Summer,8,2,7,5,1,1,8,Apples,MS in Scientific Computing,6,\"I've always been interested in how information can be extracted from large sets of data, and how the process can be automated with computers. Especially nowadays when data is everywhere and computer processing is scaling fast enough to deal with it. I'm hoping to finally learn practical applications to all of the statistics I've been learning, how to manipulate huge datasets, and how to extract information from them.  I'm also very interested in machine learning for classifying images or object/text recognition (not sure if that's part of this class, but I hope so!). PS - I actually don't prefer either fruit, but I'll have a sip of cider if offered...\",Yes,No,No,No\r\n"
     ]
    }
   ],
   "source": [
    "!head -5 data/ds_survey.csv"
   ]
  },
  {
   "cell_type": "markdown",
   "metadata": {},
   "source": [
    "It looks like a fairly well structured .csv file. Let's use pandas to turn it into a data frame."
   ]
  },
  {
   "cell_type": "code",
   "execution_count": 102,
   "metadata": {
    "collapsed": false
   },
   "outputs": [],
   "source": [
    "survey = pd.read_csv(\"data/ds_survey.csv\")"
   ]
  },
  {
   "cell_type": "markdown",
   "metadata": {},
   "source": [
    "We have a lot of data here. How can we start to make sense of it? Using the pandas `describe()` method, we can get a summary of the numeric features."
   ]
  },
  {
   "cell_type": "code",
   "execution_count": 103,
   "metadata": {
    "collapsed": false
   },
   "outputs": [
    {
     "data": {
      "text/html": [
       "<div style=\"max-height:1000px;max-width:1500px;overflow:auto;\">\n",
       "<table border=\"1\" class=\"dataframe\">\n",
       "  <thead>\n",
       "    <tr style=\"text-align: right;\">\n",
       "      <th></th>\n",
       "      <th>data_visualization</th>\n",
       "      <th>python</th>\n",
       "      <th>mathematics</th>\n",
       "      <th>statistics</th>\n",
       "      <th>machine_learning</th>\n",
       "      <th>business_strategy</th>\n",
       "      <th>communication</th>\n",
       "      <th>terminal</th>\n",
       "    </tr>\n",
       "  </thead>\n",
       "  <tbody>\n",
       "    <tr>\n",
       "      <th>count</th>\n",
       "      <td> 29.000000</td>\n",
       "      <td> 29.000000</td>\n",
       "      <td> 29.000000</td>\n",
       "      <td> 29.000000</td>\n",
       "      <td> 29.000000</td>\n",
       "      <td> 29.000000</td>\n",
       "      <td> 29.000000</td>\n",
       "      <td> 29.000000</td>\n",
       "    </tr>\n",
       "    <tr>\n",
       "      <th>mean</th>\n",
       "      <td>  4.931034</td>\n",
       "      <td>  5.137931</td>\n",
       "      <td>  7.172414</td>\n",
       "      <td>  6.000000</td>\n",
       "      <td>  3.482759</td>\n",
       "      <td>  4.172414</td>\n",
       "      <td>  6.034483</td>\n",
       "      <td>  4.448276</td>\n",
       "    </tr>\n",
       "    <tr>\n",
       "      <th>std</th>\n",
       "      <td>  2.631282</td>\n",
       "      <td>  2.601155</td>\n",
       "      <td>  2.071386</td>\n",
       "      <td>  2.251983</td>\n",
       "      <td>  2.473007</td>\n",
       "      <td>  2.803938</td>\n",
       "      <td>  2.078508</td>\n",
       "      <td>  2.680434</td>\n",
       "    </tr>\n",
       "    <tr>\n",
       "      <th>min</th>\n",
       "      <td>  1.000000</td>\n",
       "      <td>  1.000000</td>\n",
       "      <td>  3.000000</td>\n",
       "      <td>  2.000000</td>\n",
       "      <td>  1.000000</td>\n",
       "      <td>  1.000000</td>\n",
       "      <td>  1.000000</td>\n",
       "      <td>  1.000000</td>\n",
       "    </tr>\n",
       "    <tr>\n",
       "      <th>25%</th>\n",
       "      <td>  3.000000</td>\n",
       "      <td>  3.000000</td>\n",
       "      <td>  6.000000</td>\n",
       "      <td>  5.000000</td>\n",
       "      <td>  1.000000</td>\n",
       "      <td>  1.000000</td>\n",
       "      <td>  5.000000</td>\n",
       "      <td>  2.000000</td>\n",
       "    </tr>\n",
       "    <tr>\n",
       "      <th>50%</th>\n",
       "      <td>  5.000000</td>\n",
       "      <td>  5.000000</td>\n",
       "      <td>  7.000000</td>\n",
       "      <td>  6.000000</td>\n",
       "      <td>  3.000000</td>\n",
       "      <td>  3.000000</td>\n",
       "      <td>  6.000000</td>\n",
       "      <td>  4.000000</td>\n",
       "    </tr>\n",
       "    <tr>\n",
       "      <th>75%</th>\n",
       "      <td>  7.000000</td>\n",
       "      <td>  7.000000</td>\n",
       "      <td>  9.000000</td>\n",
       "      <td>  8.000000</td>\n",
       "      <td>  5.000000</td>\n",
       "      <td>  7.000000</td>\n",
       "      <td>  8.000000</td>\n",
       "      <td>  7.000000</td>\n",
       "    </tr>\n",
       "    <tr>\n",
       "      <th>max</th>\n",
       "      <td>  8.000000</td>\n",
       "      <td>  9.000000</td>\n",
       "      <td> 10.000000</td>\n",
       "      <td> 10.000000</td>\n",
       "      <td>  8.000000</td>\n",
       "      <td>  9.000000</td>\n",
       "      <td>  9.000000</td>\n",
       "      <td>  9.000000</td>\n",
       "    </tr>\n",
       "  </tbody>\n",
       "</table>\n",
       "</div>"
      ],
      "text/plain": [
       "       data_visualization     python  mathematics  statistics  \\\n",
       "count           29.000000  29.000000    29.000000   29.000000   \n",
       "mean             4.931034   5.137931     7.172414    6.000000   \n",
       "std              2.631282   2.601155     2.071386    2.251983   \n",
       "min              1.000000   1.000000     3.000000    2.000000   \n",
       "25%              3.000000   3.000000     6.000000    5.000000   \n",
       "50%              5.000000   5.000000     7.000000    6.000000   \n",
       "75%              7.000000   7.000000     9.000000    8.000000   \n",
       "max              8.000000   9.000000    10.000000   10.000000   \n",
       "\n",
       "       machine_learning  business_strategy  communication   terminal  \n",
       "count         29.000000          29.000000      29.000000  29.000000  \n",
       "mean           3.482759           4.172414       6.034483   4.448276  \n",
       "std            2.473007           2.803938       2.078508   2.680434  \n",
       "min            1.000000           1.000000       1.000000   1.000000  \n",
       "25%            1.000000           1.000000       5.000000   2.000000  \n",
       "50%            3.000000           3.000000       6.000000   4.000000  \n",
       "75%            5.000000           7.000000       8.000000   7.000000  \n",
       "max            8.000000           9.000000       9.000000   9.000000  "
      ]
     },
     "execution_count": 103,
     "metadata": {},
     "output_type": "execute_result"
    }
   ],
   "source": [
    "survey.describe()"
   ]
  },
  {
   "cell_type": "markdown",
   "metadata": {},
   "source": [
    "You might find it easier to flip the data frame,"
   ]
  },
  {
   "cell_type": "code",
   "execution_count": 104,
   "metadata": {
    "collapsed": false
   },
   "outputs": [
    {
     "data": {
      "text/html": [
       "<div style=\"max-height:1000px;max-width:1500px;overflow:auto;\">\n",
       "<table border=\"1\" class=\"dataframe\">\n",
       "  <thead>\n",
       "    <tr style=\"text-align: right;\">\n",
       "      <th></th>\n",
       "      <th>count</th>\n",
       "      <th>mean</th>\n",
       "      <th>std</th>\n",
       "      <th>min</th>\n",
       "      <th>25%</th>\n",
       "      <th>50%</th>\n",
       "      <th>75%</th>\n",
       "      <th>max</th>\n",
       "    </tr>\n",
       "  </thead>\n",
       "  <tbody>\n",
       "    <tr>\n",
       "      <th>data_visualization</th>\n",
       "      <td> 29</td>\n",
       "      <td> 4.931034</td>\n",
       "      <td> 2.631282</td>\n",
       "      <td> 1</td>\n",
       "      <td> 3</td>\n",
       "      <td> 5</td>\n",
       "      <td> 7</td>\n",
       "      <td>  8</td>\n",
       "    </tr>\n",
       "    <tr>\n",
       "      <th>python</th>\n",
       "      <td> 29</td>\n",
       "      <td> 5.137931</td>\n",
       "      <td> 2.601155</td>\n",
       "      <td> 1</td>\n",
       "      <td> 3</td>\n",
       "      <td> 5</td>\n",
       "      <td> 7</td>\n",
       "      <td>  9</td>\n",
       "    </tr>\n",
       "    <tr>\n",
       "      <th>mathematics</th>\n",
       "      <td> 29</td>\n",
       "      <td> 7.172414</td>\n",
       "      <td> 2.071386</td>\n",
       "      <td> 3</td>\n",
       "      <td> 6</td>\n",
       "      <td> 7</td>\n",
       "      <td> 9</td>\n",
       "      <td> 10</td>\n",
       "    </tr>\n",
       "    <tr>\n",
       "      <th>statistics</th>\n",
       "      <td> 29</td>\n",
       "      <td> 6.000000</td>\n",
       "      <td> 2.251983</td>\n",
       "      <td> 2</td>\n",
       "      <td> 5</td>\n",
       "      <td> 6</td>\n",
       "      <td> 8</td>\n",
       "      <td> 10</td>\n",
       "    </tr>\n",
       "    <tr>\n",
       "      <th>machine_learning</th>\n",
       "      <td> 29</td>\n",
       "      <td> 3.482759</td>\n",
       "      <td> 2.473007</td>\n",
       "      <td> 1</td>\n",
       "      <td> 1</td>\n",
       "      <td> 3</td>\n",
       "      <td> 5</td>\n",
       "      <td>  8</td>\n",
       "    </tr>\n",
       "    <tr>\n",
       "      <th>business_strategy</th>\n",
       "      <td> 29</td>\n",
       "      <td> 4.172414</td>\n",
       "      <td> 2.803938</td>\n",
       "      <td> 1</td>\n",
       "      <td> 1</td>\n",
       "      <td> 3</td>\n",
       "      <td> 7</td>\n",
       "      <td>  9</td>\n",
       "    </tr>\n",
       "    <tr>\n",
       "      <th>communication</th>\n",
       "      <td> 29</td>\n",
       "      <td> 6.034483</td>\n",
       "      <td> 2.078508</td>\n",
       "      <td> 1</td>\n",
       "      <td> 5</td>\n",
       "      <td> 6</td>\n",
       "      <td> 8</td>\n",
       "      <td>  9</td>\n",
       "    </tr>\n",
       "    <tr>\n",
       "      <th>terminal</th>\n",
       "      <td> 29</td>\n",
       "      <td> 4.448276</td>\n",
       "      <td> 2.680434</td>\n",
       "      <td> 1</td>\n",
       "      <td> 2</td>\n",
       "      <td> 4</td>\n",
       "      <td> 7</td>\n",
       "      <td>  9</td>\n",
       "    </tr>\n",
       "  </tbody>\n",
       "</table>\n",
       "</div>"
      ],
      "text/plain": [
       "                    count      mean       std  min  25%  50%  75%  max\n",
       "data_visualization     29  4.931034  2.631282    1    3    5    7    8\n",
       "python                 29  5.137931  2.601155    1    3    5    7    9\n",
       "mathematics            29  7.172414  2.071386    3    6    7    9   10\n",
       "statistics             29  6.000000  2.251983    2    5    6    8   10\n",
       "machine_learning       29  3.482759  2.473007    1    1    3    5    8\n",
       "business_strategy      29  4.172414  2.803938    1    1    3    7    9\n",
       "communication          29  6.034483  2.078508    1    5    6    8    9\n",
       "terminal               29  4.448276  2.680434    1    2    4    7    9"
      ]
     },
     "execution_count": 104,
     "metadata": {},
     "output_type": "execute_result"
    }
   ],
   "source": [
    "survey.describe().transpose()"
   ]
  },
  {
   "cell_type": "markdown",
   "metadata": {},
   "source": [
    "Do we have other features? Some that aren't numeric? Let's take a look."
   ]
  },
  {
   "cell_type": "code",
   "execution_count": 105,
   "metadata": {
    "collapsed": false
   },
   "outputs": [
    {
     "data": {
      "text/plain": [
       "Index([u'timestamp', u'professional_experience', u'programming_languages', u'full_time', u'season', u'data_visualization', u'python', u'mathematics', u'statistics', u'machine_learning', u'business_strategy', u'communication', u'fruit', u'degree', u'terminal', u'why', u'regression', u'databases', u'cloud', u'api'], dtype='object')"
      ]
     },
     "execution_count": 105,
     "metadata": {},
     "output_type": "execute_result"
    }
   ],
   "source": [
    "survey.columns"
   ]
  },
  {
   "cell_type": "markdown",
   "metadata": {},
   "source": [
    "It looks like we have quite a few. But what type are they if they're not numeric? Let's take a look,"
   ]
  },
  {
   "cell_type": "code",
   "execution_count": 106,
   "metadata": {
    "collapsed": false
   },
   "outputs": [
    {
     "data": {
      "text/html": [
       "<div style=\"max-height:1000px;max-width:1500px;overflow:auto;\">\n",
       "<table border=\"1\" class=\"dataframe\">\n",
       "  <thead>\n",
       "    <tr style=\"text-align: right;\">\n",
       "      <th></th>\n",
       "      <th>timestamp</th>\n",
       "      <th>professional_experience</th>\n",
       "      <th>programming_languages</th>\n",
       "      <th>full_time</th>\n",
       "      <th>season</th>\n",
       "      <th>data_visualization</th>\n",
       "      <th>python</th>\n",
       "      <th>mathematics</th>\n",
       "      <th>statistics</th>\n",
       "      <th>machine_learning</th>\n",
       "      <th>business_strategy</th>\n",
       "      <th>communication</th>\n",
       "      <th>fruit</th>\n",
       "      <th>degree</th>\n",
       "      <th>terminal</th>\n",
       "      <th>why</th>\n",
       "      <th>regression</th>\n",
       "      <th>databases</th>\n",
       "      <th>cloud</th>\n",
       "      <th>api</th>\n",
       "    </tr>\n",
       "  </thead>\n",
       "  <tbody>\n",
       "    <tr>\n",
       "      <th>0</th>\n",
       "      <td> 9/22/2015 20:51:41</td>\n",
       "      <td> 1</td>\n",
       "      <td>                   C/C++, Matlab/Octave</td>\n",
       "      <td>  No</td>\n",
       "      <td>   Fall</td>\n",
       "      <td> 7</td>\n",
       "      <td> 1</td>\n",
       "      <td> 10</td>\n",
       "      <td> 8</td>\n",
       "      <td> 2</td>\n",
       "      <td> 8</td>\n",
       "      <td> 9</td>\n",
       "      <td> Oranges</td>\n",
       "      <td>                       MSDS</td>\n",
       "      <td> 1</td>\n",
       "      <td> First, this is a required. : ) Second, I love ...</td>\n",
       "      <td>  No</td>\n",
       "      <td>  No</td>\n",
       "      <td>  No</td>\n",
       "      <td>  No</td>\n",
       "    </tr>\n",
       "    <tr>\n",
       "      <th>1</th>\n",
       "      <td> 9/22/2015 22:11:41</td>\n",
       "      <td> 1</td>\n",
       "      <td>           Python, C/C++, Matlab/Octave</td>\n",
       "      <td>  No</td>\n",
       "      <td> Summer</td>\n",
       "      <td> 7</td>\n",
       "      <td> 5</td>\n",
       "      <td>  7</td>\n",
       "      <td> 7</td>\n",
       "      <td> 1</td>\n",
       "      <td> 7</td>\n",
       "      <td> 6</td>\n",
       "      <td>  Apples</td>\n",
       "      <td>     MS systems engineering</td>\n",
       "      <td> 4</td>\n",
       "      <td> Lear more about programming language practices...</td>\n",
       "      <td> Yes</td>\n",
       "      <td> Yes</td>\n",
       "      <td>  No</td>\n",
       "      <td>  No</td>\n",
       "    </tr>\n",
       "    <tr>\n",
       "      <th>2</th>\n",
       "      <td>  9/23/2015 1:11:15</td>\n",
       "      <td> 5</td>\n",
       "      <td>               Python, Java, JavaScript</td>\n",
       "      <td>  No</td>\n",
       "      <td>   Fall</td>\n",
       "      <td> 7</td>\n",
       "      <td> 7</td>\n",
       "      <td>  8</td>\n",
       "      <td> 7</td>\n",
       "      <td> 4</td>\n",
       "      <td> 7</td>\n",
       "      <td> 8</td>\n",
       "      <td>  Apples</td>\n",
       "      <td>                       MSIS</td>\n",
       "      <td> 8</td>\n",
       "      <td> I hope to understand the process of analyzing ...</td>\n",
       "      <td>  No</td>\n",
       "      <td> Yes</td>\n",
       "      <td> Yes</td>\n",
       "      <td> Yes</td>\n",
       "    </tr>\n",
       "    <tr>\n",
       "      <th>3</th>\n",
       "      <td>  9/23/2015 1:49:38</td>\n",
       "      <td> 5</td>\n",
       "      <td> Java, C/C++, JavaScript, Matlab/Octave</td>\n",
       "      <td>  No</td>\n",
       "      <td> Summer</td>\n",
       "      <td> 8</td>\n",
       "      <td> 2</td>\n",
       "      <td>  7</td>\n",
       "      <td> 5</td>\n",
       "      <td> 1</td>\n",
       "      <td> 1</td>\n",
       "      <td> 8</td>\n",
       "      <td>  Apples</td>\n",
       "      <td> MS in Scientific Computing</td>\n",
       "      <td> 6</td>\n",
       "      <td> I've always been interested in how information...</td>\n",
       "      <td> Yes</td>\n",
       "      <td>  No</td>\n",
       "      <td>  No</td>\n",
       "      <td>  No</td>\n",
       "    </tr>\n",
       "    <tr>\n",
       "      <th>4</th>\n",
       "      <td> 9/23/2015 10:11:22</td>\n",
       "      <td> 6</td>\n",
       "      <td>               Python, Java, JavaScript</td>\n",
       "      <td> Yes</td>\n",
       "      <td>   Fall</td>\n",
       "      <td> 1</td>\n",
       "      <td> 7</td>\n",
       "      <td>  7</td>\n",
       "      <td> 4</td>\n",
       "      <td> 3</td>\n",
       "      <td> 1</td>\n",
       "      <td> 7</td>\n",
       "      <td> Oranges</td>\n",
       "      <td>                       MSDS</td>\n",
       "      <td> 7</td>\n",
       "      <td> Get some understanding of the concepts of Data...</td>\n",
       "      <td> Yes</td>\n",
       "      <td> Yes</td>\n",
       "      <td> Yes</td>\n",
       "      <td> Yes</td>\n",
       "    </tr>\n",
       "  </tbody>\n",
       "</table>\n",
       "</div>"
      ],
      "text/plain": [
       "            timestamp professional_experience  \\\n",
       "0  9/22/2015 20:51:41                       1   \n",
       "1  9/22/2015 22:11:41                       1   \n",
       "2   9/23/2015 1:11:15                       5   \n",
       "3   9/23/2015 1:49:38                       5   \n",
       "4  9/23/2015 10:11:22                       6   \n",
       "\n",
       "                    programming_languages full_time  season  \\\n",
       "0                    C/C++, Matlab/Octave        No    Fall   \n",
       "1            Python, C/C++, Matlab/Octave        No  Summer   \n",
       "2                Python, Java, JavaScript        No    Fall   \n",
       "3  Java, C/C++, JavaScript, Matlab/Octave        No  Summer   \n",
       "4                Python, Java, JavaScript       Yes    Fall   \n",
       "\n",
       "   data_visualization  python  mathematics  statistics  machine_learning  \\\n",
       "0                   7       1           10           8                 2   \n",
       "1                   7       5            7           7                 1   \n",
       "2                   7       7            8           7                 4   \n",
       "3                   8       2            7           5                 1   \n",
       "4                   1       7            7           4                 3   \n",
       "\n",
       "   business_strategy  communication    fruit                      degree  \\\n",
       "0                  8              9  Oranges                        MSDS   \n",
       "1                  7              6   Apples      MS systems engineering   \n",
       "2                  7              8   Apples                        MSIS   \n",
       "3                  1              8   Apples  MS in Scientific Computing   \n",
       "4                  1              7  Oranges                        MSDS   \n",
       "\n",
       "   terminal                                                why regression  \\\n",
       "0         1  First, this is a required. : ) Second, I love ...         No   \n",
       "1         4  Lear more about programming language practices...        Yes   \n",
       "2         8  I hope to understand the process of analyzing ...         No   \n",
       "3         6  I've always been interested in how information...        Yes   \n",
       "4         7  Get some understanding of the concepts of Data...        Yes   \n",
       "\n",
       "  databases cloud  api  \n",
       "0        No    No   No  \n",
       "1       Yes    No   No  \n",
       "2       Yes   Yes  Yes  \n",
       "3        No    No   No  \n",
       "4       Yes   Yes  Yes  "
      ]
     },
     "execution_count": 106,
     "metadata": {},
     "output_type": "execute_result"
    }
   ],
   "source": [
    "survey.head()"
   ]
  },
  {
   "cell_type": "markdown",
   "metadata": {},
   "source": [
    "A few fields are Yes/No. Let's turn these into 0's and 1's."
   ]
  },
  {
   "cell_type": "code",
   "execution_count": 107,
   "metadata": {
    "collapsed": false
   },
   "outputs": [],
   "source": [
    "for field in ['full_time', 'regression', 'databases', 'cloud', 'api']:\n",
    "    survey[field] = (survey[field] == \"Yes\").astype('int')"
   ]
  },
  {
   "cell_type": "code",
   "execution_count": 108,
   "metadata": {
    "collapsed": false
   },
   "outputs": [
    {
     "data": {
      "text/html": [
       "<div style=\"max-height:1000px;max-width:1500px;overflow:auto;\">\n",
       "<table border=\"1\" class=\"dataframe\">\n",
       "  <thead>\n",
       "    <tr style=\"text-align: right;\">\n",
       "      <th></th>\n",
       "      <th>count</th>\n",
       "      <th>mean</th>\n",
       "      <th>std</th>\n",
       "      <th>min</th>\n",
       "      <th>25%</th>\n",
       "      <th>50%</th>\n",
       "      <th>75%</th>\n",
       "      <th>max</th>\n",
       "    </tr>\n",
       "  </thead>\n",
       "  <tbody>\n",
       "    <tr>\n",
       "      <th>full_time</th>\n",
       "      <td> 29</td>\n",
       "      <td> 0.344828</td>\n",
       "      <td> 0.483725</td>\n",
       "      <td> 0</td>\n",
       "      <td> 0</td>\n",
       "      <td> 0</td>\n",
       "      <td> 1</td>\n",
       "      <td>  1</td>\n",
       "    </tr>\n",
       "    <tr>\n",
       "      <th>data_visualization</th>\n",
       "      <td> 29</td>\n",
       "      <td> 4.931034</td>\n",
       "      <td> 2.631282</td>\n",
       "      <td> 1</td>\n",
       "      <td> 3</td>\n",
       "      <td> 5</td>\n",
       "      <td> 7</td>\n",
       "      <td>  8</td>\n",
       "    </tr>\n",
       "    <tr>\n",
       "      <th>python</th>\n",
       "      <td> 29</td>\n",
       "      <td> 5.137931</td>\n",
       "      <td> 2.601155</td>\n",
       "      <td> 1</td>\n",
       "      <td> 3</td>\n",
       "      <td> 5</td>\n",
       "      <td> 7</td>\n",
       "      <td>  9</td>\n",
       "    </tr>\n",
       "    <tr>\n",
       "      <th>mathematics</th>\n",
       "      <td> 29</td>\n",
       "      <td> 7.172414</td>\n",
       "      <td> 2.071386</td>\n",
       "      <td> 3</td>\n",
       "      <td> 6</td>\n",
       "      <td> 7</td>\n",
       "      <td> 9</td>\n",
       "      <td> 10</td>\n",
       "    </tr>\n",
       "    <tr>\n",
       "      <th>statistics</th>\n",
       "      <td> 29</td>\n",
       "      <td> 6.000000</td>\n",
       "      <td> 2.251983</td>\n",
       "      <td> 2</td>\n",
       "      <td> 5</td>\n",
       "      <td> 6</td>\n",
       "      <td> 8</td>\n",
       "      <td> 10</td>\n",
       "    </tr>\n",
       "    <tr>\n",
       "      <th>machine_learning</th>\n",
       "      <td> 29</td>\n",
       "      <td> 3.482759</td>\n",
       "      <td> 2.473007</td>\n",
       "      <td> 1</td>\n",
       "      <td> 1</td>\n",
       "      <td> 3</td>\n",
       "      <td> 5</td>\n",
       "      <td>  8</td>\n",
       "    </tr>\n",
       "    <tr>\n",
       "      <th>business_strategy</th>\n",
       "      <td> 29</td>\n",
       "      <td> 4.172414</td>\n",
       "      <td> 2.803938</td>\n",
       "      <td> 1</td>\n",
       "      <td> 1</td>\n",
       "      <td> 3</td>\n",
       "      <td> 7</td>\n",
       "      <td>  9</td>\n",
       "    </tr>\n",
       "    <tr>\n",
       "      <th>communication</th>\n",
       "      <td> 29</td>\n",
       "      <td> 6.034483</td>\n",
       "      <td> 2.078508</td>\n",
       "      <td> 1</td>\n",
       "      <td> 5</td>\n",
       "      <td> 6</td>\n",
       "      <td> 8</td>\n",
       "      <td>  9</td>\n",
       "    </tr>\n",
       "    <tr>\n",
       "      <th>terminal</th>\n",
       "      <td> 29</td>\n",
       "      <td> 4.448276</td>\n",
       "      <td> 2.680434</td>\n",
       "      <td> 1</td>\n",
       "      <td> 2</td>\n",
       "      <td> 4</td>\n",
       "      <td> 7</td>\n",
       "      <td>  9</td>\n",
       "    </tr>\n",
       "    <tr>\n",
       "      <th>regression</th>\n",
       "      <td> 29</td>\n",
       "      <td> 0.724138</td>\n",
       "      <td> 0.454859</td>\n",
       "      <td> 0</td>\n",
       "      <td> 0</td>\n",
       "      <td> 1</td>\n",
       "      <td> 1</td>\n",
       "      <td>  1</td>\n",
       "    </tr>\n",
       "    <tr>\n",
       "      <th>databases</th>\n",
       "      <td> 29</td>\n",
       "      <td> 0.551724</td>\n",
       "      <td> 0.506120</td>\n",
       "      <td> 0</td>\n",
       "      <td> 0</td>\n",
       "      <td> 1</td>\n",
       "      <td> 1</td>\n",
       "      <td>  1</td>\n",
       "    </tr>\n",
       "    <tr>\n",
       "      <th>cloud</th>\n",
       "      <td> 29</td>\n",
       "      <td> 0.172414</td>\n",
       "      <td> 0.384426</td>\n",
       "      <td> 0</td>\n",
       "      <td> 0</td>\n",
       "      <td> 0</td>\n",
       "      <td> 0</td>\n",
       "      <td>  1</td>\n",
       "    </tr>\n",
       "    <tr>\n",
       "      <th>api</th>\n",
       "      <td> 29</td>\n",
       "      <td> 0.413793</td>\n",
       "      <td> 0.501230</td>\n",
       "      <td> 0</td>\n",
       "      <td> 0</td>\n",
       "      <td> 0</td>\n",
       "      <td> 1</td>\n",
       "      <td>  1</td>\n",
       "    </tr>\n",
       "  </tbody>\n",
       "</table>\n",
       "</div>"
      ],
      "text/plain": [
       "                    count      mean       std  min  25%  50%  75%  max\n",
       "full_time              29  0.344828  0.483725    0    0    0    1    1\n",
       "data_visualization     29  4.931034  2.631282    1    3    5    7    8\n",
       "python                 29  5.137931  2.601155    1    3    5    7    9\n",
       "mathematics            29  7.172414  2.071386    3    6    7    9   10\n",
       "statistics             29  6.000000  2.251983    2    5    6    8   10\n",
       "machine_learning       29  3.482759  2.473007    1    1    3    5    8\n",
       "business_strategy      29  4.172414  2.803938    1    1    3    7    9\n",
       "communication          29  6.034483  2.078508    1    5    6    8    9\n",
       "terminal               29  4.448276  2.680434    1    2    4    7    9\n",
       "regression             29  0.724138  0.454859    0    0    1    1    1\n",
       "databases              29  0.551724  0.506120    0    0    1    1    1\n",
       "cloud                  29  0.172414  0.384426    0    0    0    0    1\n",
       "api                    29  0.413793  0.501230    0    0    0    1    1"
      ]
     },
     "execution_count": 108,
     "metadata": {},
     "output_type": "execute_result"
    }
   ],
   "source": [
    "survey.describe().transpose()"
   ]
  },
  {
   "cell_type": "markdown",
   "metadata": {},
   "source": [
    "We can plot some of the features if we want,"
   ]
  },
  {
   "cell_type": "code",
   "execution_count": 143,
   "metadata": {
    "collapsed": false
   },
   "outputs": [
    {
     "data": {
      "image/png": "[encoded data removed]",
      "text/plain": [
       "<matplotlib.figure.Figure at 0x10dec5590>"
      ]
     },
     "metadata": {},
     "output_type": "display_data"
    }
   ],
   "source": [
    "import matplotlib.pyplot as plt\n",
    "\n",
    "plt.hist(survey['terminal'], bins=range(1, 11))\n",
    "plt.ylabel('Count')\n",
    "plt.xlabel('Rank')\n",
    "plt.xticks(ha='center')\n",
    "plt.show()"
   ]
  },
  {
   "cell_type": "markdown",
   "metadata": {},
   "source": [
    "We can also take a look at subsets of the data,"
   ]
  },
  {
   "cell_type": "code",
   "execution_count": 125,
   "metadata": {
    "collapsed": false
   },
   "outputs": [
    {
     "data": {
      "text/html": [
       "<div style=\"max-height:1000px;max-width:1500px;overflow:auto;\">\n",
       "<table border=\"1\" class=\"dataframe\">\n",
       "  <thead>\n",
       "    <tr style=\"text-align: right;\">\n",
       "      <th></th>\n",
       "      <th>timestamp</th>\n",
       "      <th>professional_experience</th>\n",
       "      <th>programming_languages</th>\n",
       "      <th>full_time</th>\n",
       "      <th>season</th>\n",
       "      <th>data_visualization</th>\n",
       "      <th>python</th>\n",
       "      <th>mathematics</th>\n",
       "      <th>statistics</th>\n",
       "      <th>machine_learning</th>\n",
       "      <th>business_strategy</th>\n",
       "      <th>communication</th>\n",
       "      <th>fruit</th>\n",
       "      <th>degree</th>\n",
       "      <th>terminal</th>\n",
       "      <th>why</th>\n",
       "      <th>regression</th>\n",
       "      <th>databases</th>\n",
       "      <th>cloud</th>\n",
       "      <th>api</th>\n",
       "    </tr>\n",
       "  </thead>\n",
       "  <tbody>\n",
       "    <tr>\n",
       "      <th>2 </th>\n",
       "      <td>  9/23/2015 1:11:15</td>\n",
       "      <td> 5</td>\n",
       "      <td>               Python, Java, JavaScript</td>\n",
       "      <td> 0</td>\n",
       "      <td>   Fall</td>\n",
       "      <td> 7</td>\n",
       "      <td> 7</td>\n",
       "      <td> 8</td>\n",
       "      <td> 7</td>\n",
       "      <td> 4</td>\n",
       "      <td> 7</td>\n",
       "      <td> 8</td>\n",
       "      <td>  Apples</td>\n",
       "      <td> MSIS</td>\n",
       "      <td> 8</td>\n",
       "      <td> I hope to understand the process of analyzing ...</td>\n",
       "      <td> 0</td>\n",
       "      <td> 1</td>\n",
       "      <td> 1</td>\n",
       "      <td> 1</td>\n",
       "    </tr>\n",
       "    <tr>\n",
       "      <th>4 </th>\n",
       "      <td> 9/23/2015 10:11:22</td>\n",
       "      <td> 6</td>\n",
       "      <td>               Python, Java, JavaScript</td>\n",
       "      <td> 1</td>\n",
       "      <td>   Fall</td>\n",
       "      <td> 1</td>\n",
       "      <td> 7</td>\n",
       "      <td> 7</td>\n",
       "      <td> 4</td>\n",
       "      <td> 3</td>\n",
       "      <td> 1</td>\n",
       "      <td> 7</td>\n",
       "      <td> Oranges</td>\n",
       "      <td> MSDS</td>\n",
       "      <td> 7</td>\n",
       "      <td> Get some understanding of the concepts of Data...</td>\n",
       "      <td> 1</td>\n",
       "      <td> 1</td>\n",
       "      <td> 1</td>\n",
       "      <td> 1</td>\n",
       "    </tr>\n",
       "    <tr>\n",
       "      <th>10</th>\n",
       "      <td> 9/24/2015 12:54:19</td>\n",
       "      <td> 2</td>\n",
       "      <td> Python, Matlab/Octave, SAS/SPSS, Stata</td>\n",
       "      <td> 0</td>\n",
       "      <td>   Fall</td>\n",
       "      <td> 1</td>\n",
       "      <td> 7</td>\n",
       "      <td> 9</td>\n",
       "      <td> 6</td>\n",
       "      <td> 4</td>\n",
       "      <td> 3</td>\n",
       "      <td> 3</td>\n",
       "      <td>  Apples</td>\n",
       "      <td> MSDS</td>\n",
       "      <td> 3</td>\n",
       "      <td> I am interested in getting a more business-ori...</td>\n",
       "      <td> 1</td>\n",
       "      <td> 0</td>\n",
       "      <td> 1</td>\n",
       "      <td> 1</td>\n",
       "    </tr>\n",
       "    <tr>\n",
       "      <th>12</th>\n",
       "      <td> 9/24/2015 17:40:51</td>\n",
       "      <td> 1</td>\n",
       "      <td>        Python, C/C++, R, Matlab/Octave</td>\n",
       "      <td> 0</td>\n",
       "      <td>   Fall</td>\n",
       "      <td> 3</td>\n",
       "      <td> 5</td>\n",
       "      <td> 3</td>\n",
       "      <td> 3</td>\n",
       "      <td> 5</td>\n",
       "      <td> 3</td>\n",
       "      <td> 3</td>\n",
       "      <td> Oranges</td>\n",
       "      <td> MSDS</td>\n",
       "      <td> 5</td>\n",
       "      <td> I want to improve my communicating and present...</td>\n",
       "      <td> 0</td>\n",
       "      <td> 0</td>\n",
       "      <td> 1</td>\n",
       "      <td> 1</td>\n",
       "    </tr>\n",
       "    <tr>\n",
       "      <th>18</th>\n",
       "      <td> 9/25/2015 22:35:30</td>\n",
       "      <td> 3</td>\n",
       "      <td> Python, C/C++, Matlab/Octave, SAS/SPSS</td>\n",
       "      <td> 0</td>\n",
       "      <td> Summer</td>\n",
       "      <td> 3</td>\n",
       "      <td> 5</td>\n",
       "      <td> 9</td>\n",
       "      <td> 7</td>\n",
       "      <td> 5</td>\n",
       "      <td> 3</td>\n",
       "      <td> 4</td>\n",
       "      <td>  Apples</td>\n",
       "      <td> MSDS</td>\n",
       "      <td> 6</td>\n",
       "      <td> Because I want to learning something about the...</td>\n",
       "      <td> 1</td>\n",
       "      <td> 0</td>\n",
       "      <td> 1</td>\n",
       "      <td> 0</td>\n",
       "    </tr>\n",
       "  </tbody>\n",
       "</table>\n",
       "</div>"
      ],
      "text/plain": [
       "             timestamp professional_experience  \\\n",
       "2    9/23/2015 1:11:15                       5   \n",
       "4   9/23/2015 10:11:22                       6   \n",
       "10  9/24/2015 12:54:19                       2   \n",
       "12  9/24/2015 17:40:51                       1   \n",
       "18  9/25/2015 22:35:30                       3   \n",
       "\n",
       "                     programming_languages  full_time  season  \\\n",
       "2                 Python, Java, JavaScript          0    Fall   \n",
       "4                 Python, Java, JavaScript          1    Fall   \n",
       "10  Python, Matlab/Octave, SAS/SPSS, Stata          0    Fall   \n",
       "12         Python, C/C++, R, Matlab/Octave          0    Fall   \n",
       "18  Python, C/C++, Matlab/Octave, SAS/SPSS          0  Summer   \n",
       "\n",
       "    data_visualization  python  mathematics  statistics  machine_learning  \\\n",
       "2                    7       7            8           7                 4   \n",
       "4                    1       7            7           4                 3   \n",
       "10                   1       7            9           6                 4   \n",
       "12                   3       5            3           3                 5   \n",
       "18                   3       5            9           7                 5   \n",
       "\n",
       "    business_strategy  communication    fruit degree  terminal  \\\n",
       "2                   7              8   Apples   MSIS         8   \n",
       "4                   1              7  Oranges   MSDS         7   \n",
       "10                  3              3   Apples   MSDS         3   \n",
       "12                  3              3  Oranges   MSDS         5   \n",
       "18                  3              4   Apples   MSDS         6   \n",
       "\n",
       "                                                  why  regression  databases  \\\n",
       "2   I hope to understand the process of analyzing ...           0          1   \n",
       "4   Get some understanding of the concepts of Data...           1          1   \n",
       "10  I am interested in getting a more business-ori...           1          0   \n",
       "12  I want to improve my communicating and present...           0          0   \n",
       "18  Because I want to learning something about the...           1          0   \n",
       "\n",
       "    cloud  api  \n",
       "2       1    1  \n",
       "4       1    1  \n",
       "10      1    1  \n",
       "12      1    1  \n",
       "18      1    0  "
      ]
     },
     "execution_count": 125,
     "metadata": {},
     "output_type": "execute_result"
    }
   ],
   "source": [
    "survey.loc[survey['cloud'] == 1]"
   ]
  },
  {
   "cell_type": "code",
   "execution_count": 149,
   "metadata": {
    "collapsed": false
   },
   "outputs": [
    {
     "data": {
      "text/plain": [
       "<matplotlib.legend.Legend at 0x10e1f3350>"
      ]
     },
     "execution_count": 149,
     "metadata": {},
     "output_type": "execute_result"
    },
    {
     "data": {
      "image/png": "[encoded data removed]",
      "text/plain": [
       "<matplotlib.figure.Figure at 0x10e34ddd0>"
      ]
     },
     "metadata": {},
     "output_type": "display_data"
    }
   ],
   "source": [
    "import matplotlib.pyplot as plt\n",
    "\n",
    "plt.hist(list(survey.loc[survey['api'] == 1, 'terminal']), color=\"red\", alpha=0.3, bins=range(1, 11), label=\"API = 1\")\n",
    "plt.hist(list(survey.loc[survey['api'] == 0, 'terminal']), color=\"blue\", alpha=0.3, bins=range(1, 11), label=\"API = 0\")\n",
    "plt.ylabel('Count')\n",
    "plt.xlabel('Rank')\n",
    "plt.legend()"
   ]
  },
  {
   "cell_type": "code",
   "execution_count": null,
   "metadata": {
    "collapsed": true
   },
   "outputs": [],
   "source": []
  }
 ],
 "metadata": {
  "kernelspec": {
   "display_name": "Python 2",
   "language": "python",
   "name": "python2"
  },
  "language_info": {
   "codemirror_mode": {
    "name": "ipython",
    "version": 2
   },
   "file_extension": ".py",
   "mimetype": "text/x-python",
   "name": "python",
   "nbconvert_exporter": "python",
   "pygments_lexer": "ipython2",
   "version": "2.7.9"
  }
 },
 "nbformat": 4,
 "nbformat_minor": 0
}
