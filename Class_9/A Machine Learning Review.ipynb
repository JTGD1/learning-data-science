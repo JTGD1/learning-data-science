{
 "cells": [
  {
   "cell_type": "markdown",
   "metadata": {},
   "source": [
    "# Introduction to Data Science\n",
    "## A Machine Learning Review\n",
    "***"
   ]
  },
  {
   "cell_type": "markdown",
   "metadata": {},
   "source": [
    "Through the course of the semester we have discussed a lot of different data science techniques and explored a lot of Python code for putting these concepts into use. The goal of this notebook is to provide a review of some of these concepts while making an effort at tying them together. We will also review some of the Python code we used to apply everything we've learned to some real data.\n",
    "\n",
    "### Overview\n",
    "1. A (Quick) Discussion on Python and Package Control\n",
    "    - General Use\n",
    "    - Data Handling\n",
    "    - Scientific Computing\n",
    "    - Machine Learning\n",
    "2. The Data Science Workflow\n",
    "3. Data Cleaning\n",
    "    - Command Line Interface (CLI)\n",
    "    - Python\n",
    "4. Modeling\n",
    "    - Supervised\n",
    "        - Tree Based Models\n",
    "        - Logistic Regression\n",
    "        - SVM\n",
    "        - Naive Bayes\n",
    "    - Unsupervised\n",
    "        - Distance Measurements\n",
    "        - Clustering\n",
    "5. Validation\n",
    "    - Accuracy\n",
    "    - Receiver Operating Characteristic (ROC)\n",
    "    - Cross Validation (CV)"
   ]
  },
  {
   "cell_type": "markdown",
   "metadata": {},
   "source": [
    "## 1. A (Quick) Discussion on Python and Package Control\n",
    "A\n",
    "\n",
    "### 1.1. General Use\n",
    "A"
   ]
  },
  {
   "cell_type": "code",
   "execution_count": null,
   "metadata": {
    "collapsed": true
   },
   "outputs": [],
   "source": [
    "import time\n",
    "import math"
   ]
  },
  {
   "cell_type": "markdown",
   "metadata": {},
   "source": [
    "### 1.2. Data Handling\n",
    "A"
   ]
  },
  {
   "cell_type": "code",
   "execution_count": null,
   "metadata": {
    "collapsed": true
   },
   "outputs": [],
   "source": [
    "import csv\n",
    "import pandas\n",
    "# import bs4"
   ]
  },
  {
   "cell_type": "markdown",
   "metadata": {},
   "source": [
    "### 1.3. Scientific Computing\n",
    "A"
   ]
  },
  {
   "cell_type": "code",
   "execution_count": null,
   "metadata": {
    "collapsed": true
   },
   "outputs": [],
   "source": [
    "import numpy\n",
    "import scipy"
   ]
  },
  {
   "cell_type": "markdown",
   "metadata": {},
   "source": [
    "### 1.4. Machine Learning\n",
    "A"
   ]
  },
  {
   "cell_type": "code",
   "execution_count": null,
   "metadata": {
    "collapsed": true
   },
   "outputs": [],
   "source": [
    "import sklearn"
   ]
  },
  {
   "cell_type": "markdown",
   "metadata": {},
   "source": [
    "## 2. The Data Science Workflow\n",
    "1. Business understanding\n",
    "2. Data understanding\n",
    "3. Data Preparation\n",
    "4. Modeling\n",
    "5. Evaluation\n",
    "6. Deployment\n",
    "\n",
    "A"
   ]
  },
  {
   "cell_type": "markdown",
   "metadata": {},
   "source": [
    "## 3. Data Cleaning\n",
    "A\n",
    "\n",
    "### 3.1. Command Line Interface (CLI)\n",
    "A\n",
    "\n",
    "### 3.2. Python\n",
    "A"
   ]
  },
  {
   "cell_type": "markdown",
   "metadata": {},
   "source": [
    "## 4. Modeling\n",
    "A\n",
    "\n",
    "### 4.1. Supervised\n",
    "A\n",
    "\n",
    "#### 4.1.1. Tree Based Models\n",
    "A\n",
    "\n",
    "#### 4.1.2. Logistic Regression\n",
    "A\n",
    "\n",
    "#### 4.1.3. SVM\n",
    "A\n",
    "\n",
    "#### 4.1.4. Naive Bayes\n",
    "A\n",
    "\n",
    "### 4.2. Unsupervised\n",
    "A\n",
    "\n",
    "#### 4.2.1. Distance Measurements\n",
    "A\n",
    "\n",
    "#### 4.2.2. Clustering\n",
    "A"
   ]
  },
  {
   "cell_type": "markdown",
   "metadata": {},
   "source": [
    "## 5. Validation\n",
    "A\n",
    "\n",
    "### 5.1. Accuracy\n",
    "A\n",
    "\n",
    "### 5.2. Receiver Operating Characteristic (ROC)\n",
    "A\n",
    "\n",
    "### 5.3. Cross Validation (CV)"
   ]
  },
  {
   "cell_type": "code",
   "execution_count": null,
   "metadata": {
    "collapsed": true
   },
   "outputs": [],
   "source": []
  }
 ],
 "metadata": {
  "kernelspec": {
   "display_name": "Python 2",
   "language": "python",
   "name": "python2"
  },
  "language_info": {
   "codemirror_mode": {
    "name": "ipython",
    "version": 2
   },
   "file_extension": ".py",
   "mimetype": "text/x-python",
   "name": "python",
   "nbconvert_exporter": "python",
   "pygments_lexer": "ipython2",
   "version": "2.7.9"
  }
 },
 "nbformat": 4,
 "nbformat_minor": 0
}
