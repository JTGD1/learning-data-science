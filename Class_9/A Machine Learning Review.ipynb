{
 "cells": [
  {
   "cell_type": "markdown",
   "metadata": {},
   "source": [
    "# Introduction to Data Science\n",
    "## A Machine Learning Review\n",
    "***"
   ]
  },
  {
   "cell_type": "markdown",
   "metadata": {},
   "source": [
    "Through the course of the semester we have discussed a lot of different data science techniques and explored a lot of Python code for putting these concepts into use. The goal of this notebook is to provide a review of some of these concepts while making an effort at tying them together. We will also review some of the Python code we used to apply everything we've learned to some real data."
   ]
  },
  {
   "cell_type": "markdown",
   "metadata": {},
   "source": [
    "## 1. A (Quick) Discussion on Python and Package Control\n",
    "Python makes use of *many* packages to do a wide range of tasks. Some of these packages are maintained by the same people that work on the Python programming languages. Others are created by 3rd party teams. There are packages to do basic tasks like simple math and telling time. Other packages are used mainly for handling data, to do scientific computing, or machine learning."
   ]
  },
  {
   "cell_type": "markdown",
   "metadata": {},
   "source": [
    "### 1.1 Data Structures\n",
    "In addition to storing strings, integers, and decimal (floats) numbers in Python, we have been using two main data structures: Python *lists* and *dictionaries*. I want to explain the difference between these two very briefly.\n",
    "\n",
    "Lists and dictionaries are both key-value stores: given a key (location) you can recieve a value. A list uses ordered keys to retrieve values. A dictionary uses unordered keys to return values. For example,"
   ]
  },
  {
   "cell_type": "code",
   "execution_count": 1,
   "metadata": {
    "collapsed": false
   },
   "outputs": [
    {
     "name": "stdout",
     "output_type": "stream",
     "text": [
      "First list: [5, 2, 6, 1, 7]\n",
      "Second list: ['bob', 'natalia', 'panos', 'michelle', 'foster']\n",
      "The first (0'th) element in the first list is: 5\n",
      "The first (0'th) element in the second list is: bob\n",
      "The last element in the first list is : 7\n",
      "The last element in the second list is : foster\n"
     ]
    }
   ],
   "source": [
    "my_list = [5, 2, 6, 1, 7]\n",
    "my_list_2 = ['bob', 'natalia', 'panos', 'michelle', 'foster']\n",
    "print \"First list: %s\" % str(my_list)\n",
    "print \"Second list: %s\" % str(my_list_2)\n",
    "print \"The first (0'th) element in the first list is: %d\" % my_list[0]\n",
    "print \"The first (0'th) element in the second list is: %s\" % my_list_2[0]\n",
    "print \"The last element in the first list is : %d\" % my_list[-1]\n",
    "print \"The last element in the second list is : %s\" % my_list_2[-1]"
   ]
  },
  {
   "cell_type": "code",
   "execution_count": 2,
   "metadata": {
    "collapsed": false
   },
   "outputs": [
    {
     "name": "stdout",
     "output_type": "stream",
     "text": [
      "{'michelle': 1, 'bob': 5, 'foster': 7, 'panos': 6, 'natalia': 2}\n",
      "The value for 'bob' is 5\n",
      "The value for 'panos' is 6\n"
     ]
    }
   ],
   "source": [
    "my_dictionary = {'bob': 5, 'natalia': 2, 'panos': 6, 'michelle': 1, 'foster': 7}\n",
    "print my_dictionary\n",
    "print \"The value for 'bob' is %d\" % my_dictionary['bob']\n",
    "print \"The value for 'panos' is %d\" % my_dictionary['panos']"
   ]
  },
  {
   "cell_type": "markdown",
   "metadata": {},
   "source": [
    "Notice that the list printed in order while the dictionary did not! I **can not** refer to the first item of a dictionary. There is no order!"
   ]
  },
  {
   "cell_type": "markdown",
   "metadata": {},
   "source": [
    "### 1.2 Packages"
   ]
  },
  {
   "cell_type": "markdown",
   "metadata": {},
   "source": [
    "#### 1.2.1. General Use\n",
    "These packages are used mainly to coorindate and structure your Python code. You can use `time` and `datetime` to keep track of how long it takes to run certain tasks or to format dates and times. The `os` and `sys` packages let you make calls to the computer and access programs outside of Python (e.g. the command line!). You can use `math` to do mathematical operations slightly more advanced than addition, subtraction, etc. (e.g. exponentiation)."
   ]
  },
  {
   "cell_type": "code",
   "execution_count": 20,
   "metadata": {
    "collapsed": true
   },
   "outputs": [],
   "source": [
    "import time\n",
    "import datetime\n",
    "import os\n",
    "import sys\n",
    "import math\n",
    "import re"
   ]
  },
  {
   "cell_type": "markdown",
   "metadata": {},
   "source": [
    "#### 1.2.2. Data Handling\n",
    "Python comes with packages for reading `csv` and `json` files natively. If you want to use something with more features, `pandas` is useful for creating data frames (a common data structure used in data science and machine learning). Some of you may be dealing with HTML data from web pages and will find Beautiful Soup 4 (`bs4`) useful."
   ]
  },
  {
   "cell_type": "code",
   "execution_count": 2,
   "metadata": {
    "collapsed": true
   },
   "outputs": [],
   "source": [
    "import csv\n",
    "import json\n",
    "import pandas as pd\n",
    "# import bs4"
   ]
  },
  {
   "cell_type": "markdown",
   "metadata": {},
   "source": [
    "You may notice that when I imported pandas I decided to call it `pd`. This isn't necessary but is commonly used to give long packages a shorter name so that typing and reading them is easier."
   ]
  },
  {
   "cell_type": "markdown",
   "metadata": {},
   "source": [
    "#### 1.2.3. Scientific Computing\n",
    "The `numpy` and `scipy` packages are probably two of the most popular Python packages. They will give you the ability to use arrays and matrices (both dense and sparse). They also give a ton of basic operations (max, min, argmax, argmin, etc.) For those of you with Matlab experience, you may notice a lot of similarity as scipy and numpy were written based on Matlab."
   ]
  },
  {
   "cell_type": "code",
   "execution_count": 5,
   "metadata": {
    "collapsed": true
   },
   "outputs": [],
   "source": [
    "import numpy as np\n",
    "import scipy"
   ]
  },
  {
   "cell_type": "markdown",
   "metadata": {},
   "source": [
    "Many people have asked why I use `np.max([1,2,3,4])` instead of just using Python's default function, `max([1,2,3,4])`. The answer is... I just happened to use the numpy version :) You can use whichever you like."
   ]
  },
  {
   "cell_type": "markdown",
   "metadata": {},
   "source": [
    "#### 1.2.4. Machine Learning\n",
    "The package we have been using all semester to do machine learning, sci-kit learn (`sklearn`), is one of the most popular machine learning packages currently in use. Throughout the semeseter you have probably noticed that we have been using a *ton* of difference functions and features. The documentation on sklearn is vast."
   ]
  },
  {
   "cell_type": "code",
   "execution_count": 6,
   "metadata": {
    "collapsed": true
   },
   "outputs": [],
   "source": [
    "import sklearn"
   ]
  },
  {
   "cell_type": "markdown",
   "metadata": {},
   "source": [
    "You may have also noticed that I often do something like"
   ]
  },
  {
   "cell_type": "code",
   "execution_count": 7,
   "metadata": {
    "collapsed": false
   },
   "outputs": [
    {
     "name": "stdout",
     "output_type": "stream",
     "text": [
      "The accuracy is 1.00\n"
     ]
    }
   ],
   "source": [
    "from sklearn import metrics\n",
    "print \"The accuracy is %.2f\" % metrics.accuracy_score([1,1], [1,1])"
   ]
  },
  {
   "cell_type": "markdown",
   "metadata": {},
   "source": [
    "But I could also do something like this"
   ]
  },
  {
   "cell_type": "code",
   "execution_count": 8,
   "metadata": {
    "collapsed": false
   },
   "outputs": [
    {
     "name": "stdout",
     "output_type": "stream",
     "text": [
      "The accuracy is 1.00\n"
     ]
    }
   ],
   "source": [
    "from sklearn.metrics import accuracy_score\n",
    "print \"The accuracy is %.2f\" % accuracy_score([1,1], [1,1])"
   ]
  },
  {
   "cell_type": "markdown",
   "metadata": {},
   "source": [
    "There is no correct way of doing it. It's just a matter of preference."
   ]
  },
  {
   "cell_type": "markdown",
   "metadata": {},
   "source": [
    "## 2. The Data Science Workflow\n",
    "&nbsp;\n",
    "<div style=\"float: left; width: 50%\">\n",
    "We've talked about the \"data science workflow\" a lot through out the semeseter, but I just want to remind everyone of what it looks like.\n",
    "\n",
    "<ol style=\"padding: 20px 0;\">\n",
    "<li>Business understanding</li>\n",
    "<li>Data understanding</li>\n",
    "<li>Data Preparation</li>\n",
    "<li>Modeling</li>\n",
    "<li>Evaluation</li>\n",
    "<li>Deployment</li>\n",
    "</ol>\n",
    "\n",
    "While you have been working a lot on the business understanding phase of your project recently (as well as the others, I hope!), today we are going to focus a bit more on summarizing what handson skills you have learned.\n",
    "</div>\n",
    "<div style=\"float: left; width: 40%\">\n",
    "<img src=\"images/workflow.png\" width=\"100%\"/>\n",
    "</div>"
   ]
  },
  {
   "cell_type": "markdown",
   "metadata": {},
   "source": [
    "## 3. Data Exploration and Cleaning\n",
    "We've talked about this in our very first class and went on to mention it a few more times throughout the semester. However, I'd like to review some of this again given some common questions I've been getting.\n",
    "\n",
    "### 3.1. Structured Data\n",
    "Almost all of the data we have dealt with so far can be called *structured* data. This means that every record in the data set is organized and structured in some machine readable way. The two most popular ways of storing structured data are:\n",
    "\n",
    "- **.csv or .tsv** - Can be thought of as rows and columns, where each column will represent a single feature. All rows must have something for each column.\n",
    "- **JSON** - Looks similar to Python dictionaries. Each row can have an unordered list of `key:value`s\n",
    "\n",
    "The layout of any of these data types might seem straight forward, but there can be tons of complications. A file ending in `.csv` does *not* mean that it will be well structured. It is still just a text file."
   ]
  },
  {
   "cell_type": "code",
   "execution_count": 3,
   "metadata": {
    "collapsed": false
   },
   "outputs": [
    {
     "name": "stdout",
     "output_type": "stream",
     "text": [
      "rob,What if, in the middle, there is a (\")?,25\r\n",
      "foster,Some string here,91\r\n",
      "\r\n"
     ]
    }
   ],
   "source": [
    "!head data/strings_ugly.csv"
   ]
  },
  {
   "cell_type": "code",
   "execution_count": 19,
   "metadata": {
    "collapsed": false
   },
   "outputs": [
    {
     "data": {
      "text/html": [
       "<div style=\"max-height:1000px;max-width:1500px;overflow:auto;\">\n",
       "<table border=\"1\" class=\"dataframe\">\n",
       "  <thead>\n",
       "    <tr style=\"text-align: right;\">\n",
       "      <th></th>\n",
       "      <th>rob</th>\n",
       "      <th>What if</th>\n",
       "      <th> in the middle</th>\n",
       "      <th> there is a (\")?</th>\n",
       "      <th>25</th>\n",
       "    </tr>\n",
       "  </thead>\n",
       "  <tbody>\n",
       "    <tr>\n",
       "      <th>0</th>\n",
       "      <td> foster</td>\n",
       "      <td> Some string here</td>\n",
       "      <td> 91</td>\n",
       "      <td>NaN</td>\n",
       "      <td>NaN</td>\n",
       "    </tr>\n",
       "  </tbody>\n",
       "</table>\n",
       "</div>"
      ],
      "text/plain": [
       "      rob           What if   in the middle   there is a (\")?  25\n",
       "0  foster  Some string here              91               NaN NaN"
      ]
     },
     "execution_count": 19,
     "metadata": {},
     "output_type": "execute_result"
    }
   ],
   "source": [
    "data = pd.read_csv(\"data/strings_ugly.csv\")\n",
    "data"
   ]
  },
  {
   "cell_type": "markdown",
   "metadata": {},
   "source": [
    "That doesn't look anywhere even close to what it should be. We can explicitely tell it to expect three columns."
   ]
  },
  {
   "cell_type": "code",
   "execution_count": null,
   "metadata": {
    "collapsed": false
   },
   "outputs": [],
   "source": [
    "# This is going to kill the notebook :(\n",
    "data = pd.read_csv(\"data/strings_ugly.csv\", names=['name', 'sentence', 'age'])\n",
    "data"
   ]
  },
  {
   "cell_type": "markdown",
   "metadata": {},
   "source": [
    "Again, that can't be right. If you look at the data you'll see that there are commas in one of the fields. Encapsulate them."
   ]
  },
  {
   "cell_type": "code",
   "execution_count": 5,
   "metadata": {
    "collapsed": false
   },
   "outputs": [
    {
     "name": "stdout",
     "output_type": "stream",
     "text": [
      "rob,\"What if, in the middle, there is a (\")?\",25\r\n",
      "foster,\"Some string here\",91\r\n",
      "\r\n"
     ]
    }
   ],
   "source": [
    "!head data/strings_quoted.csv"
   ]
  },
  {
   "cell_type": "code",
   "execution_count": 7,
   "metadata": {
    "collapsed": false
   },
   "outputs": [
    {
     "data": {
      "text/html": [
       "<div style=\"max-height:1000px;max-width:1500px;overflow:auto;\">\n",
       "<table border=\"1\" class=\"dataframe\">\n",
       "  <thead>\n",
       "    <tr style=\"text-align: right;\">\n",
       "      <th></th>\n",
       "      <th>name</th>\n",
       "      <th>sentence</th>\n",
       "      <th>age</th>\n",
       "    </tr>\n",
       "  </thead>\n",
       "  <tbody>\n",
       "    <tr>\n",
       "      <th>0</th>\n",
       "      <td>    rob</td>\n",
       "      <td> What if, in the middle, there is a ()?\"</td>\n",
       "      <td> 25</td>\n",
       "    </tr>\n",
       "    <tr>\n",
       "      <th>1</th>\n",
       "      <td> foster</td>\n",
       "      <td>                        Some string here</td>\n",
       "      <td> 91</td>\n",
       "    </tr>\n",
       "  </tbody>\n",
       "</table>\n",
       "</div>"
      ],
      "text/plain": [
       "     name                                 sentence  age\n",
       "0     rob  What if, in the middle, there is a ()?\"   25\n",
       "1  foster                         Some string here   91"
      ]
     },
     "execution_count": 7,
     "metadata": {},
     "output_type": "execute_result"
    }
   ],
   "source": [
    "data = pd.read_csv(\"data/strings_quoted.csv\", names=['name', 'sentence', 'age'], quotechar=\"\\\"\")\n",
    "data"
   ]
  },
  {
   "cell_type": "markdown",
   "metadata": {},
   "source": [
    "Getting closer, but it looks like we also have quotes in the string. We have to escape them."
   ]
  },
  {
   "cell_type": "code",
   "execution_count": 9,
   "metadata": {
    "collapsed": false
   },
   "outputs": [
    {
     "name": "stdout",
     "output_type": "stream",
     "text": [
      "rob,\"What if, in the middle, there is a (\\\")?\",25\r\n",
      "foster,\"Some string here\",91\r\n",
      "\r\n"
     ]
    }
   ],
   "source": [
    "!head data/strings_escaped.csv"
   ]
  },
  {
   "cell_type": "code",
   "execution_count": 18,
   "metadata": {
    "collapsed": false
   },
   "outputs": [
    {
     "data": {
      "text/html": [
       "<div style=\"max-height:1000px;max-width:1500px;overflow:auto;\">\n",
       "<table border=\"1\" class=\"dataframe\">\n",
       "  <thead>\n",
       "    <tr style=\"text-align: right;\">\n",
       "      <th></th>\n",
       "      <th>name</th>\n",
       "      <th>sentence</th>\n",
       "      <th>age</th>\n",
       "    </tr>\n",
       "  </thead>\n",
       "  <tbody>\n",
       "    <tr>\n",
       "      <th>0</th>\n",
       "      <td>    rob</td>\n",
       "      <td> What if, in the middle, there is a (\")?</td>\n",
       "      <td> 25</td>\n",
       "    </tr>\n",
       "    <tr>\n",
       "      <th>1</th>\n",
       "      <td> foster</td>\n",
       "      <td>                        Some string here</td>\n",
       "      <td> 91</td>\n",
       "    </tr>\n",
       "  </tbody>\n",
       "</table>\n",
       "</div>"
      ],
      "text/plain": [
       "     name                                 sentence  age\n",
       "0     rob  What if, in the middle, there is a (\")?   25\n",
       "1  foster                         Some string here   91"
      ]
     },
     "execution_count": 18,
     "metadata": {},
     "output_type": "execute_result"
    }
   ],
   "source": [
    "data = pd.read_csv(\"data/strings_escaped.csv\", names=['name', 'sentence', 'age'], quotechar=\"\\\"\", escapechar=\"\\\\\")\n",
    "data"
   ]
  },
  {
   "cell_type": "markdown",
   "metadata": {},
   "source": [
    "This can go on for a very long time until you find all the small nuances to your data file. Notice that we keep adding levels of complexity to our parser. Doing this at the command line is very tricky, which is why using pandas and `read_csv()` are very nice. A lot of the problems we just saw are unfortunately solved by editing the raw data to conform to some kind of standards. Hopefully, most of your project data is already in a useable state!"
   ]
  },
  {
   "cell_type": "markdown",
   "metadata": {},
   "source": [
    "### 3.2. Engineering"
   ]
  },
  {
   "cell_type": "code",
   "execution_count": null,
   "metadata": {
    "collapsed": true
   },
   "outputs": [],
   "source": []
  },
  {
   "cell_type": "markdown",
   "metadata": {},
   "source": [
    "### 3.3. Unstructured Data\n",
    "What about data that is highly unstructured? For example, web pages are a jumble of HTML tags. The formats between pages can be drastically different."
   ]
  },
  {
   "cell_type": "markdown",
   "metadata": {},
   "source": [
    "## 4. Modeling\n",
    "We've covered two different methods of modeling: supervised and unsupervised learning.\n",
    "\n",
    "### 4.1. Supervised\n",
    "Most of what we've done so far this semester involves having **labeled** data. For these data, we have a set of records where we know the value of the target variable. This allows us to learn some relationship between our feature set and the target variable. We've covered five machine learning algorithms that can do this. Here is a brief, and in no way comprehensive, overview.\n",
    "\n",
    "<table>\n",
    "<tr><td>Model</td>\n",
    "<td>Overview</td>\n",
    "<td>Pros</td>\n",
    "<td>Cons</td>\n",
    "<td>Use Case</td></tr>\n",
    "\n",
    "<tr><td>Tree Based</td>\n",
    " <td>Will create splits on any feature that gives maximum **information gain**.</td>\n",
    " <td>- Can create multiple separating planes</td>\n",
    " <td>- Separating planes must be perpendicular to a feature<br />\n",
    "     - Prone to overfitting</td>\n",
    " <td>- Data with many categorical features</td></tr>\n",
    " \n",
    "<tr><td>Logistic Regression</td>\n",
    " <td>Creates a hyperplane that can separate the data with the smallest **loss**.</td>\n",
    " <td></td>\n",
    " <td>- No closed form solution</td>\n",
    " <td>- Data with many records</td></tr>\n",
    "\n",
    "\n",
    "<tr><td>SVM</td>\n",
    " <td>Creates a hyperplane that can separate the data with the maximal **margin**.</td>\n",
    " <td>- Kernal Trick</td>\n",
    " <td>- No closed form solution</td>\n",
    " <td></td></tr>\n",
    "\n",
    "<tr><td>Naive Bayes</td>\n",
    " <td>Uses simple counts to calculate **conditional probabilities**.</td>\n",
    " <td>- Fast training</td>\n",
    " <td>- Treats all features as independent</td>\n",
    " <td>- Text data</td></tr>\n",
    "\n",
    "<tr><td>k-NN</td>\n",
    " <td>Creates a **cluster** of the k-closest records and assigns majority label.</td>\n",
    " <td>- Works with any number of labels</td>\n",
    " <td></td>\n",
    " <td></td></tr>\n",
    "</table>\n",
    "\n",
    "All of these algorithms have an implementation in sklearn. Some algorithms, like SVM, have multiple implementations. Let's import one implementation of each."
   ]
  },
  {
   "cell_type": "code",
   "execution_count": 21,
   "metadata": {
    "collapsed": true
   },
   "outputs": [],
   "source": [
    "from sklearn.tree import DecisionTreeClassifier\n",
    "from sklearn.linear_model import LogisticRegression\n",
    "from sklearn.svm import LinearSVC\n",
    "from sklearn.naive_bayes import BernoulliNB\n",
    "from sklearn.neighbors import KNeighborsClassifier"
   ]
  },
  {
   "cell_type": "code",
   "execution_count": null,
   "metadata": {
    "collapsed": true
   },
   "outputs": [],
   "source": []
  },
  {
   "cell_type": "code",
   "execution_count": null,
   "metadata": {
    "collapsed": true
   },
   "outputs": [],
   "source": []
  },
  {
   "cell_type": "markdown",
   "metadata": {},
   "source": [
    "### 4.2. Unsupervised\n",
    "A\n",
    "\n",
    "#### 4.2.1. Distance Measurements\n",
    "A\n",
    "\n",
    "#### 4.2.2. Clustering\n",
    "A"
   ]
  },
  {
   "cell_type": "markdown",
   "metadata": {},
   "source": [
    "## 5. Validation\n",
    "A\n",
    "\n",
    "### 5.1. Accuracy\n",
    "A\n",
    "\n",
    "### 5.2. Receiver Operating Characteristic (ROC)\n",
    "A\n",
    "\n",
    "### 5.3. Cross Validation (CV)"
   ]
  },
  {
   "cell_type": "code",
   "execution_count": null,
   "metadata": {
    "collapsed": true
   },
   "outputs": [],
   "source": []
  }
 ],
 "metadata": {
  "kernelspec": {
   "display_name": "Python 2",
   "language": "python",
   "name": "python2"
  },
  "language_info": {
   "codemirror_mode": {
    "name": "ipython",
    "version": 2
   },
   "file_extension": ".py",
   "mimetype": "text/x-python",
   "name": "python",
   "nbconvert_exporter": "python",
   "pygments_lexer": "ipython2",
   "version": "2.7.9"
  }
 },
 "nbformat": 4,
 "nbformat_minor": 0
}
