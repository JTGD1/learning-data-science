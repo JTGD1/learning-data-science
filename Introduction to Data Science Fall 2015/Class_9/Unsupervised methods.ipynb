{
 "cells": [
  {
   "cell_type": "markdown",
   "metadata": {},
   "source": [
    "# Introduction to Data Science\n",
    "## Unsupervised methods\n",
    "***"
   ]
  },
  {
   "cell_type": "markdown",
   "metadata": {},
   "source": [
    "Read in some packages."
   ]
  },
  {
   "cell_type": "code",
   "execution_count": null,
   "metadata": {
    "collapsed": false
   },
   "outputs": [],
   "source": [
    "# Import the libraries we will be using\n",
    "import numpy as np\n",
    "import pandas as pd\n",
    "import pickle\n",
    "from scipy import sparse\n",
    "from sklearn import metrics\n",
    "from sklearn.cross_validation import train_test_split\n",
    "from sklearn.decomposition import TruncatedSVD\n",
    "\n",
    "%matplotlib inline\n",
    "import matplotlib.pylab as plt\n",
    "plt.rcParams['figure.figsize'] = 14, 8\n",
    "\n",
    "np.random.seed(36)"
   ]
  },
  {
   "cell_type": "markdown",
   "metadata": {},
   "source": [
    "### Data Cleaning (optional, won't work on EC2)\n",
    "As usual, we will start by reading in some data. Today we will be looking at movie rating data that was derived from Tweets (https://github.com/sidooms/MovieTweetings). The data set consists of three files: `movies.dat`, `ratings.dat`, and `users.dat`. For our class tonight, we will only be looking at the first two files. Both of them are located in the `data` directory. These files **do not** have a header row at the top so we will manually set it."
   ]
  },
  {
   "cell_type": "code",
   "execution_count": null,
   "metadata": {
    "collapsed": false
   },
   "outputs": [],
   "source": [
    "# Read in the movies data\n",
    "movies = pd.read_csv(\"data/movies.dat\", names=['movie_id', 'movie_title', 'genre'], sep=\"\\:\\:\")\n",
    "\n",
    "# Movie ids don't start at 0 and some are missing, let's remap\n",
    "movie_id_map = dict(zip(np.argsort(movies['movie_id'].unique())*-1, movies['movie_id'].unique()))\n",
    "\n",
    "# Given the mapping, let's replace the values\n",
    "movies = movies.replace({\"movie_id\": {v: k for k, v in movie_id_map.items()}})\n",
    "movies['movie_id'] = movies['movie_id'] * -1"
   ]
  },
  {
   "cell_type": "code",
   "execution_count": null,
   "metadata": {
    "collapsed": false
   },
   "outputs": [],
   "source": [
    "movies.head()"
   ]
  },
  {
   "cell_type": "code",
   "execution_count": null,
   "metadata": {
    "collapsed": false
   },
   "outputs": [],
   "source": [
    "# Read in the ratings data\n",
    "ratings = pd.read_csv(\"data/ratings.dat\", names=['user_id', 'movie_id', 'rating', 'rating_timestamp'], sep=\"\\:\\:\")\n",
    "\n",
    "# User ids start at 1, let's bump them all down by 1\n",
    "ratings['user_id'] = ratings['user_id'] - 1\n",
    "\n",
    "# Make movie ids match the ones from our movie's data\n",
    "ratings = ratings.replace({\"movie_id\": {v: k for k, v in movie_id_map.items()}})\n",
    "ratings['movie_id'] = ratings['movie_id'] * -1\n",
    "\n",
    "# Put our mapping back in order\n",
    "movie_id_map = dict((key*-1, value) for (key, value) in movie_id_map.items())"
   ]
  },
  {
   "cell_type": "code",
   "execution_count": null,
   "metadata": {
    "collapsed": false
   },
   "outputs": [],
   "source": [
    "ratings.head()"
   ]
  },
  {
   "cell_type": "markdown",
   "metadata": {},
   "source": [
    "Now that we have our two data files loaded in and cleaned, we can create one data frame that joins both of them together."
   ]
  },
  {
   "cell_type": "code",
   "execution_count": null,
   "metadata": {
    "collapsed": false
   },
   "outputs": [],
   "source": [
    "movies_ratings = pd.merge(movies, ratings, on=\"movie_id\").drop(['genre', 'rating_timestamp'], axis=1)"
   ]
  },
  {
   "cell_type": "code",
   "execution_count": null,
   "metadata": {
    "collapsed": false
   },
   "outputs": [],
   "source": [
    "movies_ratings.head()"
   ]
  },
  {
   "cell_type": "markdown",
   "metadata": {},
   "source": [
    "This data can be represented as a movie-by-user matrix (kind of like the document-by-word matrices we saw in our text class). In this new matrix, we can let movies be the rows, users are the columns, and each cell is filled in with a rating."
   ]
  },
  {
   "cell_type": "code",
   "execution_count": null,
   "metadata": {
    "collapsed": false
   },
   "outputs": [],
   "source": [
    "data = sparse.csr_matrix((movies_ratings['rating'], (movies_ratings['movie_id'], movies_ratings['user_id'])), \n",
    "                         shape=(max(movies_ratings['movie_id'])+1, max(movies_ratings['user_id'])+1))"
   ]
  },
  {
   "cell_type": "markdown",
   "metadata": {},
   "source": [
    "This will not fit in EC2, so I'm going to dump this to a pickle object and let you read it in."
   ]
  },
  {
   "cell_type": "code",
   "execution_count": null,
   "metadata": {
    "collapsed": false
   },
   "outputs": [],
   "source": [
    "with open('data/movies_ratings.pickle', 'wb') as f:\n",
    "    pickle.dump(data, f)\n",
    "\n",
    "with open('data/movies_clean.pickle', 'wb') as f:\n",
    "    pickle.dump(movies, f)"
   ]
  },
  {
   "cell_type": "markdown",
   "metadata": {},
   "source": [
    "### Data\n",
    "Read in the cleaned data!"
   ]
  },
  {
   "cell_type": "code",
   "execution_count": null,
   "metadata": {
    "collapsed": true
   },
   "outputs": [],
   "source": [
    "with open('data/movies_ratings.pickle', 'rb') as f:\n",
    "    data = pickle.load(f)\n",
    "\n",
    "with open('data/movies_clean.pickle', 'rb') as f:\n",
    "    movies = pickle.load(f)"
   ]
  },
  {
   "cell_type": "markdown",
   "metadata": {},
   "source": [
    "### Dimensionality reduction\n",
    "This matrix has many dimensions. If, for example, we wanted to plot this data onto a 2 dimensional space, we would have to find some way of reducing are large number of dimensions. One way of doing this is with SVD."
   ]
  },
  {
   "cell_type": "code",
   "execution_count": null,
   "metadata": {
    "collapsed": false
   },
   "outputs": [],
   "source": [
    "svd = TruncatedSVD(2)"
   ]
  },
  {
   "cell_type": "code",
   "execution_count": null,
   "metadata": {
    "collapsed": false
   },
   "outputs": [],
   "source": [
    "svd.fit(data)"
   ]
  },
  {
   "cell_type": "code",
   "execution_count": null,
   "metadata": {
    "collapsed": true
   },
   "outputs": [],
   "source": [
    "components = svd.transform(data)"
   ]
  },
  {
   "cell_type": "markdown",
   "metadata": {},
   "source": [
    "With our data reduced to 2 components, we can visualize it easily."
   ]
  },
  {
   "cell_type": "code",
   "execution_count": null,
   "metadata": {
    "collapsed": false
   },
   "outputs": [],
   "source": [
    "plt.scatter(components[:,0], components[:,1])\n",
    "plt.xlabel(\"Component 1\")\n",
    "plt.ylabel(\"Component 2\")\n",
    "plt.show()"
   ]
  },
  {
   "cell_type": "markdown",
   "metadata": {},
   "source": [
    "Very messy... We can write a few small functions to pick out a few of our favorite movies and see what's around them!"
   ]
  },
  {
   "cell_type": "code",
   "execution_count": null,
   "metadata": {
    "collapsed": false
   },
   "outputs": [],
   "source": [
    "def movie_search(movie_name):\n",
    "    return movies.loc[(movies['movie_title'].str.match('(.*' + movie_name + '.*)').str.len() > 0)]"
   ]
  },
  {
   "cell_type": "code",
   "execution_count": null,
   "metadata": {
    "collapsed": false
   },
   "outputs": [],
   "source": [
    "def movie_plotter(movie_id, components, x_buffer=3, y_buffer=2):\n",
    "    x = components[movie_id][0]\n",
    "    y = components[movie_id][1]\n",
    "\n",
    "    xs = [x - x_buffer, x + x_buffer]\n",
    "    ys = [y - y_buffer, y + y_buffer]\n",
    "\n",
    "    plt.scatter(components[:,0], components[:,1])\n",
    "    plt.xlim(xs)\n",
    "    plt.ylim(ys)\n",
    "\n",
    "    for x, y, title in zip(components[:,0], components[:,1], movies['movie_title']):\n",
    "        if x >= xs[0] and x <= xs[1] and y >= ys[0] and y <= ys[1]:\n",
    "            plt.text(x, y, title)"
   ]
  },
  {
   "cell_type": "code",
   "execution_count": null,
   "metadata": {
    "collapsed": false
   },
   "outputs": [],
   "source": [
    "movie_search(\"The Matrix\")"
   ]
  },
  {
   "cell_type": "code",
   "execution_count": null,
   "metadata": {
    "collapsed": false,
    "scrolled": true
   },
   "outputs": [],
   "source": [
    "movie_plotter(7613, components, 4, 3)"
   ]
  },
  {
   "cell_type": "code",
   "execution_count": null,
   "metadata": {
    "collapsed": true
   },
   "outputs": [],
   "source": []
  }
 ],
 "metadata": {
  "kernelspec": {
   "display_name": "Python 2",
   "language": "python",
   "name": "python2"
  },
  "language_info": {
   "codemirror_mode": {
    "name": "ipython",
    "version": 2
   },
   "file_extension": ".py",
   "mimetype": "text/x-python",
   "name": "python",
   "nbconvert_exporter": "python",
   "pygments_lexer": "ipython2",
   "version": "2.7.8"
  }
 },
 "nbformat": 4,
 "nbformat_minor": 0
}
