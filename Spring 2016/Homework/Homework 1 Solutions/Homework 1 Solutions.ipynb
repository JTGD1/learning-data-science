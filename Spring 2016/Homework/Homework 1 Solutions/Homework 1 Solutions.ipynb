{
 "cells": [
  {
   "cell_type": "markdown",
   "metadata": {},
   "source": [
    "# Data Mining for Business Analytics\n",
    "## Homework 1 Solutions"
   ]
  },
  {
   "cell_type": "markdown",
   "metadata": {},
   "source": [
    "Student Name: Solutions\n",
    "\n",
    "Student Netid: Solutions\n",
    "***"
   ]
  },
  {
   "cell_type": "markdown",
   "metadata": {},
   "source": [
    "### Part 1: Case study\n",
    "1\\. Read [this article](http://www.nytimes.com/2012/02/19/magazine/shopping-habits.html) in the New York Times.\n",
    "\n",
    "Use what we've learned in class and from the book to describe how one could set Target's problem up as a predictive modeling problem, such that they could have gotten the results that they did. Formulate your solution as a proposed plan using our data science terminology (recall the Data Mining Cycle we have been using). Include all the aspects of the formulation that you see as relevant to solving the problem. **Be precise but concise.**"
   ]
  },
  {
   "cell_type": "markdown",
   "metadata": {},
   "source": [
    "I am a data scientists working for Target. I would like to determine if female Target shoppers are pregnant and in their second trimester. Now that I know what question I want to answer, I need to determine if I have the appropriate data to answer it.\n",
    "\n",
    "For this question, I need a dataset that contains my target variable: female shoppers that I know were pregnant and a set that were not pregnant. As this is not something we will know automatically about our customers, we need to dive into our data. As it turns out, many customers sign up for baby registries where they disclose their due dates! Now, since we know when they will give birth, we can look at their second trimester and use this to define our target variable.\n",
    "\n",
    "In addition to having my target variable, I also need to know some features about these customers that may help me build a model. I will use a users demographic information such as whether they are married, their age, and their gender. I will also use whether or not they purchased products. Since Target has many products, I will perform some research and determine what types of things are need during pregnancy and directly after. My research may result in finding that pregnant women are often encouraged to take vitamins and use lotion. I may also find that they start to purchase diapers, baby clothing, and toys. They may also stop buying certain foods such as certain types of fish and alcohol.\n",
    "\n",
    "With my target variable and features, I can build a model that will learn how my features related to my target variable. With my model, I will try using it on customers at particular historical times to determine if they are pregnant. Given the answer from my model, I can check my historical data for accuracy.\n",
    "\n",
    "This model can be deployed for use on new customers by feeding their features into the model and asking for a prediction of pregnancy."
   ]
  },
  {
   "cell_type": "markdown",
   "metadata": {},
   "source": [
    "### Part 2: Exploring data in the command line\n",
    "For this part we will be using the data file located in `\"data/advertising_events.csv\"`. This file consists of records that pertain to some online advertising events on a given day. There are 4 comma separated columns in this order: `userid`, `timestamp`, `domain`, and `action`. These fields are of type `int`, `int`, `string`, and `int` respectively. Answer the following questions using Linux/Unix bash commands. All questions can be answered in one line (sometimes, with pipes)! Some questions will have many possible solutions but you only need to give one. **Don't forget that in IPython notebooks you must prefix all bash commands with an exclamation point, i.e. `\"!command arguments\"`.**\n",
    "\n",
    "*Hints: Feel free to explore and try a ton of different combinations here. Just make sure you clean up a little before submitting your assignment. For cells that you don't need to submit, don't forget to delete them (by using the scissor/cut icon in the menu bar). Your final solution for each question should only require a single cell!*"
   ]
  },
  {
   "cell_type": "markdown",
   "metadata": {},
   "source": [
    "1\\. How many records (lines) are in this file?"
   ]
  },
  {
   "cell_type": "code",
   "execution_count": 1,
   "metadata": {
    "collapsed": false
   },
   "outputs": [
    {
     "name": "stdout",
     "output_type": "stream",
     "text": [
      "   10341 data/advertising_events.csv\r\n"
     ]
    }
   ],
   "source": [
    "! wc -l data/advertising_events.csv"
   ]
  },
  {
   "cell_type": "markdown",
   "metadata": {},
   "source": [
    "2\\. How many unique users are in this file?"
   ]
  },
  {
   "cell_type": "code",
   "execution_count": 2,
   "metadata": {
    "collapsed": false
   },
   "outputs": [
    {
     "name": "stdout",
     "output_type": "stream",
     "text": [
      "     732\r\n"
     ]
    }
   ],
   "source": [
    "!cut -f1 -d',' data/advertising_events.csv | sort | uniq | wc -l"
   ]
  },
  {
   "cell_type": "markdown",
   "metadata": {},
   "source": [
    "3\\. Rank all domains by the number of visits they received in descending order."
   ]
  },
  {
   "cell_type": "code",
   "execution_count": 3,
   "metadata": {
    "collapsed": false
   },
   "outputs": [
    {
     "name": "stdout",
     "output_type": "stream",
     "text": [
      "3114 google.com\r\n",
      "2092 facebook.com\r\n",
      "1036 youtube.com\r\n",
      "1034 yahoo.com\r\n",
      "1022 baidu.com\r\n",
      " 513 wikipedia.org\r\n",
      " 511 amazon.com\r\n",
      " 382 qq.com\r\n",
      " 321 twitter.com\r\n",
      " 316 taobao.com\r\n"
     ]
    }
   ],
   "source": [
    "!cut -f3 -d ',' data/advertising_events.csv | sort | uniq -c | sort -rn"
   ]
  },
  {
   "cell_type": "markdown",
   "metadata": {},
   "source": [
    "4\\. List all records for the user with user id 37. (*Hint: If a user has an ID of 37, what would the start of the line/record look like? How do we know the user field is over? Is knowing this useful?)"
   ]
  },
  {
   "cell_type": "code",
   "execution_count": 4,
   "metadata": {
    "collapsed": false
   },
   "outputs": [
    {
     "name": "stdout",
     "output_type": "stream",
     "text": [
      "37,648061658,google.com,0\r\n",
      "37,642479972,google.com,2\r\n",
      "37,644493341,facebook.com,2\r\n",
      "37,654941318,facebook.com,1\r\n",
      "37,649979874,baidu.com,1\r\n",
      "37,653061949,yahoo.com,1\r\n",
      "37,655020469,google.com,3\r\n",
      "37,640878012,amazon.com,0\r\n",
      "37,659864136,youtube.com,1\r\n",
      "37,640361378,yahoo.com,1\r\n",
      "37,653862134,facebook.com,0\r\n",
      "37,648828970,youtube.com,0\r\n"
     ]
    }
   ],
   "source": [
    "! grep '^37,.*' data/advertising_events.csv"
   ]
  },
  {
   "cell_type": "markdown",
   "metadata": {},
   "source": [
    "### Part 3: Dealing with data Pythonically"
   ]
  },
  {
   "cell_type": "code",
   "execution_count": 5,
   "metadata": {
    "collapsed": true
   },
   "outputs": [],
   "source": [
    "# You might find these packages useful. You may import any others you want!\n",
    "import pandas as pd\n",
    "import numpy as np"
   ]
  },
  {
   "cell_type": "markdown",
   "metadata": {},
   "source": [
    "1\\. Load the data set `\"data/ads_dataset.tsv\"` into a Python Pandas data frame called `ads`."
   ]
  },
  {
   "cell_type": "code",
   "execution_count": 6,
   "metadata": {
    "collapsed": false
   },
   "outputs": [],
   "source": [
    "ads = pd.read_csv('data/ads_dataset.tsv', delimiter=\"\\t\")"
   ]
  },
  {
   "cell_type": "markdown",
   "metadata": {},
   "source": [
    "2\\. Write a Python function called `getDfSummary()` that does the following:\n",
    "- Takes as input a data frame\n",
    "- Creates a new data frame called `output_data` that:\n",
    "  - Consists of the output of the `pandas` function `describe()`. (*Hint: Check the `pandas` [(manual page)](http://pandas.pydata.org/pandas-docs/stable/generated/pandas.DataFrame.describe.html) for this function if you want to learn more.*)\n",
    "  - The data frame `output_data` should have the original feature names from `input_data` as **rows**. (*Hint: Are they rows by default? If not, how could you make them rows?*)\n",
    "  - Adds a column called `spread` that is the result of subtracting the `min` from the `max`. (*Hint: What does the `describe()` function return? Do we have a column called `max` and `min`?*)\n",
    "- Returns the new `output_data` data frame."
   ]
  },
  {
   "cell_type": "code",
   "execution_count": 7,
   "metadata": {
    "collapsed": true
   },
   "outputs": [],
   "source": [
    "def getDfSummary(input_data):\n",
    "    output_data = input_data.describe()\n",
    "    output_data = output_data.transpose()\n",
    "    output_data['spread'] = output_data['max'] - output_data['min']\n",
    "    \n",
    "    return output_data"
   ]
  },
  {
   "cell_type": "markdown",
   "metadata": {},
   "source": [
    "3\\. How long does it take for your `getDfSummary()` function to work on your `ads` data frame? Show us the results below.\n",
    "\n",
    "*Hint: `%timeit getDfSummary(ads)`*"
   ]
  },
  {
   "cell_type": "code",
   "execution_count": 8,
   "metadata": {
    "collapsed": false
   },
   "outputs": [
    {
     "name": "stdout",
     "output_type": "stream",
     "text": [
      "10 loops, best of 3: 89.8 ms per loop\n"
     ]
    }
   ],
   "source": [
    "%timeit getDfSummary(ads)"
   ]
  },
  {
   "cell_type": "markdown",
   "metadata": {},
   "source": [
    "4\\. Show me the output of the `getDfSummary()` function you created by printing it in the next cell."
   ]
  },
  {
   "cell_type": "code",
   "execution_count": 9,
   "metadata": {
    "collapsed": false
   },
   "outputs": [
    {
     "data": {
      "text/html": [
       "<div style=\"max-height:1000px;max-width:1500px;overflow:auto;\">\n",
       "<table border=\"1\" class=\"dataframe\">\n",
       "  <thead>\n",
       "    <tr style=\"text-align: right;\">\n",
       "      <th></th>\n",
       "      <th>count</th>\n",
       "      <th>mean</th>\n",
       "      <th>std</th>\n",
       "      <th>min</th>\n",
       "      <th>25%</th>\n",
       "      <th>50%</th>\n",
       "      <th>75%</th>\n",
       "      <th>max</th>\n",
       "      <th>spread</th>\n",
       "    </tr>\n",
       "  </thead>\n",
       "  <tbody>\n",
       "    <tr>\n",
       "      <th>isbuyer</th>\n",
       "      <td> 54584</td>\n",
       "      <td>   0.042632</td>\n",
       "      <td>    0.202027</td>\n",
       "      <td>   0.0000</td>\n",
       "      <td>   0</td>\n",
       "      <td>   0</td>\n",
       "      <td>   0.000000</td>\n",
       "      <td>     1.00000</td>\n",
       "      <td>     1.00000</td>\n",
       "    </tr>\n",
       "    <tr>\n",
       "      <th>buy_freq</th>\n",
       "      <td>  2327</td>\n",
       "      <td>   1.240653</td>\n",
       "      <td>    0.782228</td>\n",
       "      <td>   1.0000</td>\n",
       "      <td>   1</td>\n",
       "      <td>   1</td>\n",
       "      <td>   1.000000</td>\n",
       "      <td>    15.00000</td>\n",
       "      <td>    14.00000</td>\n",
       "    </tr>\n",
       "    <tr>\n",
       "      <th>visit_freq</th>\n",
       "      <td> 54584</td>\n",
       "      <td>   1.852777</td>\n",
       "      <td>    2.921820</td>\n",
       "      <td>   0.0000</td>\n",
       "      <td>   1</td>\n",
       "      <td>   1</td>\n",
       "      <td>   2.000000</td>\n",
       "      <td>    84.00000</td>\n",
       "      <td>    84.00000</td>\n",
       "    </tr>\n",
       "    <tr>\n",
       "      <th>buy_interval</th>\n",
       "      <td> 54584</td>\n",
       "      <td>   0.210008</td>\n",
       "      <td>    3.922016</td>\n",
       "      <td>   0.0000</td>\n",
       "      <td>   0</td>\n",
       "      <td>   0</td>\n",
       "      <td>   0.000000</td>\n",
       "      <td>   174.62500</td>\n",
       "      <td>   174.62500</td>\n",
       "    </tr>\n",
       "    <tr>\n",
       "      <th>sv_interval</th>\n",
       "      <td> 54584</td>\n",
       "      <td>   5.825610</td>\n",
       "      <td>   17.595442</td>\n",
       "      <td>   0.0000</td>\n",
       "      <td>   0</td>\n",
       "      <td>   0</td>\n",
       "      <td>   0.104167</td>\n",
       "      <td>   184.91670</td>\n",
       "      <td>   184.91670</td>\n",
       "    </tr>\n",
       "    <tr>\n",
       "      <th>expected_time_buy</th>\n",
       "      <td> 54584</td>\n",
       "      <td>  -0.198040</td>\n",
       "      <td>    4.997792</td>\n",
       "      <td>-181.9238</td>\n",
       "      <td>   0</td>\n",
       "      <td>   0</td>\n",
       "      <td>   0.000000</td>\n",
       "      <td>    84.28571</td>\n",
       "      <td>   266.20951</td>\n",
       "    </tr>\n",
       "    <tr>\n",
       "      <th>expected_time_visit</th>\n",
       "      <td> 54584</td>\n",
       "      <td> -10.210786</td>\n",
       "      <td>   31.879722</td>\n",
       "      <td>-187.6156</td>\n",
       "      <td>   0</td>\n",
       "      <td>   0</td>\n",
       "      <td>   0.000000</td>\n",
       "      <td>    91.40192</td>\n",
       "      <td>   279.01752</td>\n",
       "    </tr>\n",
       "    <tr>\n",
       "      <th>last_buy</th>\n",
       "      <td> 54584</td>\n",
       "      <td>  64.729335</td>\n",
       "      <td>   53.476658</td>\n",
       "      <td>   0.0000</td>\n",
       "      <td>  18</td>\n",
       "      <td>  51</td>\n",
       "      <td> 105.000000</td>\n",
       "      <td>   188.00000</td>\n",
       "      <td>   188.00000</td>\n",
       "    </tr>\n",
       "    <tr>\n",
       "      <th>last_visit</th>\n",
       "      <td> 54584</td>\n",
       "      <td>  64.729335</td>\n",
       "      <td>   53.476658</td>\n",
       "      <td>   0.0000</td>\n",
       "      <td>  18</td>\n",
       "      <td>  51</td>\n",
       "      <td> 105.000000</td>\n",
       "      <td>   188.00000</td>\n",
       "      <td>   188.00000</td>\n",
       "    </tr>\n",
       "    <tr>\n",
       "      <th>multiple_buy</th>\n",
       "      <td> 54584</td>\n",
       "      <td>   0.006357</td>\n",
       "      <td>    0.079479</td>\n",
       "      <td>   0.0000</td>\n",
       "      <td>   0</td>\n",
       "      <td>   0</td>\n",
       "      <td>   0.000000</td>\n",
       "      <td>     1.00000</td>\n",
       "      <td>     1.00000</td>\n",
       "    </tr>\n",
       "    <tr>\n",
       "      <th>multiple_visit</th>\n",
       "      <td> 54584</td>\n",
       "      <td>   0.277444</td>\n",
       "      <td>    0.447742</td>\n",
       "      <td>   0.0000</td>\n",
       "      <td>   0</td>\n",
       "      <td>   0</td>\n",
       "      <td>   1.000000</td>\n",
       "      <td>     1.00000</td>\n",
       "      <td>     1.00000</td>\n",
       "    </tr>\n",
       "    <tr>\n",
       "      <th>uniq_urls</th>\n",
       "      <td> 54584</td>\n",
       "      <td>  86.569343</td>\n",
       "      <td>   61.969765</td>\n",
       "      <td>  -1.0000</td>\n",
       "      <td>  30</td>\n",
       "      <td>  75</td>\n",
       "      <td> 155.000000</td>\n",
       "      <td>   206.00000</td>\n",
       "      <td>   207.00000</td>\n",
       "    </tr>\n",
       "    <tr>\n",
       "      <th>num_checkins</th>\n",
       "      <td> 54584</td>\n",
       "      <td> 720.657592</td>\n",
       "      <td> 1275.727306</td>\n",
       "      <td>   1.0000</td>\n",
       "      <td> 127</td>\n",
       "      <td> 319</td>\n",
       "      <td> 802.000000</td>\n",
       "      <td> 37091.00000</td>\n",
       "      <td> 37090.00000</td>\n",
       "    </tr>\n",
       "    <tr>\n",
       "      <th>y_buy</th>\n",
       "      <td> 54584</td>\n",
       "      <td>   0.004635</td>\n",
       "      <td>    0.067924</td>\n",
       "      <td>   0.0000</td>\n",
       "      <td>   0</td>\n",
       "      <td>   0</td>\n",
       "      <td>   0.000000</td>\n",
       "      <td>     1.00000</td>\n",
       "      <td>     1.00000</td>\n",
       "    </tr>\n",
       "  </tbody>\n",
       "</table>\n",
       "</div>"
      ],
      "text/plain": [
       "                     count        mean          std       min  25%  50%  \\\n",
       "isbuyer              54584    0.042632     0.202027    0.0000    0    0   \n",
       "buy_freq              2327    1.240653     0.782228    1.0000    1    1   \n",
       "visit_freq           54584    1.852777     2.921820    0.0000    1    1   \n",
       "buy_interval         54584    0.210008     3.922016    0.0000    0    0   \n",
       "sv_interval          54584    5.825610    17.595442    0.0000    0    0   \n",
       "expected_time_buy    54584   -0.198040     4.997792 -181.9238    0    0   \n",
       "expected_time_visit  54584  -10.210786    31.879722 -187.6156    0    0   \n",
       "last_buy             54584   64.729335    53.476658    0.0000   18   51   \n",
       "last_visit           54584   64.729335    53.476658    0.0000   18   51   \n",
       "multiple_buy         54584    0.006357     0.079479    0.0000    0    0   \n",
       "multiple_visit       54584    0.277444     0.447742    0.0000    0    0   \n",
       "uniq_urls            54584   86.569343    61.969765   -1.0000   30   75   \n",
       "num_checkins         54584  720.657592  1275.727306    1.0000  127  319   \n",
       "y_buy                54584    0.004635     0.067924    0.0000    0    0   \n",
       "\n",
       "                            75%          max       spread  \n",
       "isbuyer                0.000000      1.00000      1.00000  \n",
       "buy_freq               1.000000     15.00000     14.00000  \n",
       "visit_freq             2.000000     84.00000     84.00000  \n",
       "buy_interval           0.000000    174.62500    174.62500  \n",
       "sv_interval            0.104167    184.91670    184.91670  \n",
       "expected_time_buy      0.000000     84.28571    266.20951  \n",
       "expected_time_visit    0.000000     91.40192    279.01752  \n",
       "last_buy             105.000000    188.00000    188.00000  \n",
       "last_visit           105.000000    188.00000    188.00000  \n",
       "multiple_buy           0.000000      1.00000      1.00000  \n",
       "multiple_visit         1.000000      1.00000      1.00000  \n",
       "uniq_urls            155.000000    206.00000    207.00000  \n",
       "num_checkins         802.000000  37091.00000  37090.00000  \n",
       "y_buy                  0.000000      1.00000      1.00000  "
      ]
     },
     "execution_count": 9,
     "metadata": {},
     "output_type": "execute_result"
    }
   ],
   "source": [
    "getDfSummary(ads)"
   ]
  },
  {
   "cell_type": "markdown",
   "metadata": {},
   "source": [
    "5\\. Using the results returned from `getDfSummary()`, which fields, if any, have a spread of 1? Full credit will be given for a code based approach that prints out the correct field names. Partial credit will be given if you simply manually explore the results of `getDfSummary()`. Print each field name on a line by itself."
   ]
  },
  {
   "cell_type": "code",
   "execution_count": 10,
   "metadata": {
    "collapsed": false
   },
   "outputs": [
    {
     "name": "stdout",
     "output_type": "stream",
     "text": [
      "isbuyer\n",
      "multiple_buy\n",
      "multiple_visit\n",
      "y_buy\n"
     ]
    }
   ],
   "source": [
    "summary = getDfSummary(ads)\n",
    "\n",
    "for row_number in range(len(summary['spread'])):\n",
    "    if summary['spread'][row_number] == 1:\n",
    "        print summary.index[row_number]"
   ]
  },
  {
   "cell_type": "markdown",
   "metadata": {},
   "source": [
    "6\\. For the fields that have a spread of 1, what percentage of records have the value of `1`? You may assume that if a field had a spread of 1 that it only has values 1 and 0.\n",
    "\n",
    "Full credit will be given for a code based approach that prints out the correct field names **and** their respective percentages. Partial credit will be given if you simply manually explore the results of `getDfSummary()`. (*Hint: Using the `pandas` function `.get_value()` may be useful if you happen to know the row and column name you want.*)\n",
    "\n",
    "Your results should look something like this:\n",
    "\n",
    "`The field` **`xxx`** `has` **`yyy`** `percent of its records set to 1.`"
   ]
  },
  {
   "cell_type": "code",
   "execution_count": 11,
   "metadata": {
    "collapsed": false
   },
   "outputs": [
    {
     "name": "stdout",
     "output_type": "stream",
     "text": [
      "The field isbuyer has 4.26315403781 percent of its records set to 1.\n",
      "The field multiple_buy has 0.635717426352 percent of its records set to 1.\n",
      "The field multiple_visit has 27.7443939616 percent of its records set to 1.\n",
      "The field y_buy has 0.463505789242 percent of its records set to 1.\n"
     ]
    }
   ],
   "source": [
    "summary = getDfSummary(ads)\n",
    "\n",
    "for row_number in range(len(summary['spread'])):\n",
    "    if summary['spread'][row_number] == 1:\n",
    "        print \"The field \" + summary.index[row_number] + \" has \" + str(summary['mean'][row_number] * 100) + \" percent of its records set to 1.\""
   ]
  },
  {
   "cell_type": "markdown",
   "metadata": {},
   "source": [
    "### Part 4. Functions, loops and plotting"
   ]
  },
  {
   "cell_type": "markdown",
   "metadata": {},
   "source": [
    "1\\. Write a function called `squared_less_100()` that takes a single number, squares it, and then returns the square minus 100."
   ]
  },
  {
   "cell_type": "code",
   "execution_count": 12,
   "metadata": {
    "collapsed": true
   },
   "outputs": [],
   "source": [
    "def squared_less_100(input_number):\n",
    "    output_number = (input_number * input_number) - 100\n",
    "    \n",
    "    return output_number"
   ]
  },
  {
   "cell_type": "markdown",
   "metadata": {},
   "source": [
    "2\\. Create three empty lists called `sl1_results`, `absolute_results`, `log_results`."
   ]
  },
  {
   "cell_type": "code",
   "execution_count": 13,
   "metadata": {
    "collapsed": true
   },
   "outputs": [],
   "source": [
    "sl1_results = []\n",
    "absolute_results = []\n",
    "log_results = []"
   ]
  },
  {
   "cell_type": "markdown",
   "metadata": {},
   "source": [
    "3\\. Create a list of integers from 1 to 20 (including both 1 and 20) called `original_set`. Loop through this list and apply your `squared_less_100()` function, the `numpy` function for finding absolute value, and the `numpy` natural log function. Store the result of each function by appending it the the initially empty lists you created in Part 4 Question 2. (*Hint: If you don't know what the `numpy` functions for absolute value or natural logs are, simply Google it and it will be one of the first results. Although, you can probably guess what they would be!*)"
   ]
  },
  {
   "cell_type": "code",
   "execution_count": 14,
   "metadata": {
    "collapsed": false
   },
   "outputs": [],
   "source": [
    "# Code here!\n",
    "\n",
    "import numpy as np\n",
    "\n",
    "original_set = range(1, 21)\n",
    "\n",
    "for number in original_set:\n",
    "    sl1_results.append(squared_less_100(number))\n",
    "    absolute_results.append(np.abs(number))\n",
    "    log_results.append(np.log(number))"
   ]
  },
  {
   "cell_type": "markdown",
   "metadata": {},
   "source": [
    "4\\. Create a plot of your results. On the x-axis put `original_set`. Now, all within the **same plot** put a line for the `sl1_results`, a line for `absolute_results`, and a line for `log_results`. Don't forget to add a legend so that I know which line is for which set of results!"
   ]
  },
  {
   "cell_type": "code",
   "execution_count": 15,
   "metadata": {
    "collapsed": false
   },
   "outputs": [
    {
     "data": {
      "text/plain": [
       "<matplotlib.legend.Legend at 0x10cf8f990>"
      ]
     },
     "execution_count": 15,
     "metadata": {},
     "output_type": "execute_result"
    },
    {
     "data": {
      "image/png": "[encoded data removed]",
      "text/plain": [
       "<matplotlib.figure.Figure at 0x10cda2f90>"
      ]
     },
     "metadata": {},
     "output_type": "display_data"
    }
   ],
   "source": [
    "import matplotlib.pyplot as plt\n",
    "%matplotlib inline\n",
    "\n",
    "plt.plot(original_set, sl1_results, label=\"Squared less 100\")\n",
    "plt.plot(original_set, absolute_results, label=\"Absolute\")\n",
    "plt.plot(original_set, log_results, label=\"Log\")\n",
    "plt.legend()"
   ]
  }
 ],
 "metadata": {
  "kernelspec": {
   "display_name": "Python 2",
   "language": "python",
   "name": "python2"
  },
  "language_info": {
   "codemirror_mode": {
    "name": "ipython",
    "version": 2
   },
   "file_extension": ".py",
   "mimetype": "text/x-python",
   "name": "python",
   "nbconvert_exporter": "python",
   "pygments_lexer": "ipython2",
   "version": "2.7.8"
  }
 },
 "nbformat": 4,
 "nbformat_minor": 0
}
