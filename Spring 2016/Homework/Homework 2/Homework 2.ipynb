{
 "cells": [
  {
   "cell_type": "markdown",
   "metadata": {},
   "source": [
    "# Data Mining for Business Analytics\n",
    "## Homework 2"
   ]
  },
  {
   "cell_type": "markdown",
   "metadata": {},
   "source": [
    "Student Name: \n",
    "\n",
    "Student Netid: \n",
    "***"
   ]
  },
  {
   "cell_type": "markdown",
   "metadata": {},
   "source": [
    "### Part 1: Data Mining\n",
    "1\\. For each of the following examples, tell me whether they are describing \"Data Mining\" or \"Data Mining in Use\". For \"Data Mining\" tasks, please replace **`ANS`** with **`DM`**. For \"Data Mining in Use\", please replace it with **`USE`**. **[*3 points each*]**."
   ]
  },
  {
   "cell_type": "markdown",
   "metadata": {},
   "source": [
    "a) [**`ANS`**] Building a decision tree to predict if users will cancel their cell phone plan in the next billing cycle.\n",
    "\n",
    "b) [**`ANS`**] Using the attributes of my data to find clusters of users that may be beneficial to my business.\n",
    "\n",
    "c) [**`ANS`**] Processing 1,000 new applicants through a logistic regression to determine if I should grant them a loan.\n",
    "\n",
    "d) [**`ANS`**] Predict whether a customer is pregnant.\n",
    "\n",
    "e) [**`ANS`**] Find patterns indicating what customer behavior is more likely to lead to response to an on-line ad."
   ]
  },
  {
   "cell_type": "markdown",
   "metadata": {},
   "source": [
    "***"
   ]
  },
  {
   "cell_type": "markdown",
   "metadata": {},
   "source": [
    "### Part 2: Modeling\n",
    "As data scientists we will build many models both in class and in the real world. So far this semester we have learned a few different types of models: decision trees, logistic regression, SVMs, and linear regressions. In your own words please explain what the *modeling phase* of the Data Mining Cycle is doing. Why do we even bother modeling? What is the point? What is our goal? **This explanation should be around 7 sentences.** Be precise but concise. **[*15 points*]**."
   ]
  },
  {
   "cell_type": "markdown",
   "metadata": {},
   "source": [
    "Answer here!"
   ]
  },
  {
   "cell_type": "markdown",
   "metadata": {},
   "source": [
    "***"
   ]
  },
  {
   "cell_type": "markdown",
   "metadata": {
    "collapsed": false
   },
   "source": [
    "### Part 3: Decision Trees\n",
    "For these problems calculate the given quantity. There are two possible classes in Question 1 and three possible classes in Questions 2 and 3. Since calculations of entropy only require us to use logs and basic multiplication, you should be able to easily show your work by typing. **Answers without work will be given at most half credit.**"
   ]
  },
  {
   "cell_type": "markdown",
   "metadata": {},
   "source": [
    "1\\. Consider this population. What is the entropy? **[*8 points*]**.\n",
    "<br /><img src=\"images/q3-1.png\" height=144px width=142px style=\"float: left\"/>"
   ]
  },
  {
   "cell_type": "markdown",
   "metadata": {},
   "source": [
    "Answer and work here!"
   ]
  },
  {
   "cell_type": "markdown",
   "metadata": {},
   "source": [
    "2\\. Consider this population. What is the entropy? **[*8 points*]**.\n",
    "<br /><img src=\"images/q3-2.png\" height=144px width=142px style=\"float: left\"/>"
   ]
  },
  {
   "cell_type": "markdown",
   "metadata": {},
   "source": [
    "Answer and work here!"
   ]
  },
  {
   "cell_type": "markdown",
   "metadata": {},
   "source": [
    "3\\. Consider these two potential splits on the first node of a decision tree. Calculate the information gain obtained with Split A and Split B. Which split is more desirable? Why? **[*14 points*]**.\n",
    "<br /><img src=\"images/q3-3a.png\" height=300px width=300px style=\"float: left; padding-right: 20px;\"/> <img src=\"images/q3-3b.png\" height=300px width=300px style=\"float: left; padding-left: 20px\"/>"
   ]
  },
  {
   "cell_type": "markdown",
   "metadata": {},
   "source": [
    "Answer and work here!"
   ]
  },
  {
   "cell_type": "markdown",
   "metadata": {},
   "source": [
    "***"
   ]
  },
  {
   "cell_type": "markdown",
   "metadata": {},
   "source": [
    "### Part 4: Decision trees vs. Linear discriminant models\n",
    "What are the similarities and differences of decision trees and linear discriminant models? When might you prefer to use one over another? **This explanation should be around 7 sentences.** Be precise but concise. **[*15 points*]**."
   ]
  },
  {
   "cell_type": "markdown",
   "metadata": {},
   "source": [
    "Answer here!"
   ]
  },
  {
   "cell_type": "markdown",
   "metadata": {},
   "source": [
    "***"
   ]
  },
  {
   "cell_type": "markdown",
   "metadata": {},
   "source": [
    "### Part 5. Hands-on"
   ]
  },
  {
   "cell_type": "markdown",
   "metadata": {},
   "source": [
    "For your hands-on excercise, I am going to ask you to build two different models and show me the impact of training/fitting them with different amounts of data. For this example we will be using the `data/cell2cell.csv` data.\n",
    "\n",
    "These historical data consist of 31,892 customers: 15,855 customers that churned (i.e., left the company) and 16,036 that did not churn. Here are the data set's 12 columns:\n",
    "\n",
    "```\n",
    "Col.  Var. Name  Var. Description\n",
    "----- ---------- --------------------------------------------------------------\n",
    "1     revenue    Mean monthly revenue in dollars\n",
    "2     outcalls   Mean number of outbound voice calls\n",
    "3     incalls    Mean number of inbound voice calls\n",
    "4     months     Months in Service\n",
    "5     eqpdays    Number of days the customer has had his/her current equipment\n",
    "6     webcap     Handset is web capable\n",
    "7     marryyes   Married (1=Yes; 0=No)\n",
    "8     travel     Has traveled to non-US country (1=Yes; 0=No)\n",
    "9     pcown      Owns a personal computer (1=Yes; 0=No)\n",
    "10    creditcd   Possesses a credit card (1=Yes; 0=No)\n",
    "11    retcalls   Number of calls previously made to retention team\n",
    "12    churndep   Did the customer churn (1=Yes; 0=No)\n",
    "```\n",
    "\n",
    "The first 11 columns are our attributes/features. The last column, `\"churndep\"`, is the target variable."
   ]
  },
  {
   "cell_type": "markdown",
   "metadata": {},
   "source": [
    "1\\. I would like for you to create a decision tree using entropy with no max depth and a logistic regression. For each of these models, I would like you to assign 10% to 90% of the data to training (in increments of 10%) and the rest to test. For each training set, I would like you to fit both models and then get the accuracy on the remaining data used for test for both models. Finally, create a plot where the x-axis includes 0.10 to 0.90 (one tick for each training data percentage) and the y-axis indicates accuracy. Your plot should have two lines/curves on it: one for the decision tree and one for logistic regression. Remember to put a legend. **[*15 points*]**.\n",
    "\n",
    "*Hint: This should look somewhat similar to the team work we did in the Hands-on material in Module 4.*"
   ]
  },
  {
   "cell_type": "code",
   "execution_count": null,
   "metadata": {
    "collapsed": false
   },
   "outputs": [],
   "source": [
    "import pandas as pd\n",
    "from sklearn.cross_validation import train_test_split\n",
    "from sklearn.tree import DecisionTreeClassifier\n",
    "from sklearn.linear_model import LogisticRegression\n",
    "from sklearn.metrics import accuracy_score\n",
    "import matplotlib.pylab as plt\n",
    "%matplotlib inline\n",
    "\n",
    "# Read in our csv data\n",
    "data = pd.read_csv(...)\n",
    "\n",
    "# Put all features into X and the target variable into Y\n",
    "X = data.drop(...)\n",
    "Y = data[...]\n",
    "\n",
    "# Prepare to do some training and testing\n",
    "training_percentages = [0.10, 0.20, 0.30, 0.40, 0.50, 0.60, 0.70, 0.80, 0.90]\n",
    "tree_accuracies = []\n",
    "logistic_accuracies = []\n",
    "\n",
    "# Loop through your training percentages, split your data with each percentage, \n",
    "#  create both models, fit/train both models, predict with your models and \n",
    "#  append each accuracy to the correct list\n",
    "for training_percentage in training_percentages:\n",
    "    ... = train_test_split(...)\n",
    "    \n",
    "    # Create both models\n",
    "    tree = ...\n",
    "    logistic = ...\n",
    "    \n",
    "    # Fit both models\n",
    "    tree. ...\n",
    "    logistic. ...\n",
    "    \n",
    "    # Get predictions from both models\n",
    "    Y_test_predicted_tree = tree.predict(...)\n",
    "    Y_test_predicted_logistic = logistic.predict(...)\n",
    "\n",
    "    # Get the accuracy for the models' predictions\n",
    "    tree_acc = accuracy_score(...)\n",
    "    logistic_acc = accuracy_score(...)\n",
    "    \n",
    "    # Now that I have a tree and logistic accuracy, I should add them to my list of accuracies\n",
    "    tree_accuracies. ...\n",
    "    logistic_accuracies. ...\n",
    "    \n",
    "# Plot two curves on one plot. Don't forget labels and your legend\n",
    "plt.plot(...)\n",
    "plt.plot(...)"
   ]
  },
  {
   "cell_type": "markdown",
   "metadata": {},
   "source": [
    "2\\. Is this a learning curve or a fitting curve? What is the difference? What does each one show us? **[*5 points*]**."
   ]
  },
  {
   "cell_type": "markdown",
   "metadata": {},
   "source": [
    "Answer here!"
   ]
  },
  {
   "cell_type": "markdown",
   "metadata": {},
   "source": [
    "3\\. What do you observe in the above graph? Anything interesting? There is no right answer. In fact, you will most likely see a different (although possibly similar) plot when compared to your friends. Why do you think each person's plot will look different? If you were to rerun the cell above this, you would probably get a different plot again. Why do you think this is the case? **[*5 points*]**."
   ]
  },
  {
   "cell_type": "markdown",
   "metadata": {},
   "source": [
    "Answer here!"
   ]
  }
 ],
 "metadata": {
  "kernelspec": {
   "display_name": "Python 2",
   "language": "python",
   "name": "python2"
  },
  "language_info": {
   "codemirror_mode": {
    "name": "ipython",
    "version": 2
   },
   "file_extension": ".py",
   "mimetype": "text/x-python",
   "name": "python",
   "nbconvert_exporter": "python",
   "pygments_lexer": "ipython2",
   "version": "2.7.8"
  }
 },
 "nbformat": 4,
 "nbformat_minor": 0
}
