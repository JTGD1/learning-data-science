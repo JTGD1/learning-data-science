{
 "cells": [
  {
   "cell_type": "markdown",
   "metadata": {},
   "source": [
    "# Data Mining for Business Analytics\n",
    "## Homework 3 Solutions"
   ]
  },
  {
   "cell_type": "markdown",
   "metadata": {},
   "source": [
    "Student Name: Solutions\n",
    "\n",
    "Student Netid: Solutions\n",
    "***"
   ]
  },
  {
   "cell_type": "markdown",
   "metadata": {},
   "source": [
    "### Part 1: Planning\n",
    "1\\. Plumbing Inc. has been selling plumbing supplies for the last 20 years. The owner, Joe, decides that next year it is finally time to diversify by adding gardening tools to his products. Having had success using customer data to build predictive models to guide direct mail campaigns for special plumbing offers, he considers that data mining could help him to identify a subset of customers who should be good prospects for his new set of products. Is Joe ready to solve this as a supervised learning problem? What would you suggest as the target variable? Be precise. Is there anything else that you would recommend that Joe do to achieve his business goal? **`[`*`30 points`*`]`**"
   ]
  },
  {
   "cell_type": "markdown",
   "metadata": {},
   "source": [
    "Joe wants to tackle this problem as a **supervised** learning problem. His target variable in this problem would be \"users that buy gardening products given an offer\". Since he wants to take a supervised approach, he must have **labels** for the target variable in his data. If he wants to learn about people that both buy and do not buy gardening products, then he will have to have seen both types of people in the past! But since, he has never sold gardening products before, he does not have any of this data. He is **not** ready to answer this problem!\n",
    "\n",
    "Some ways he could get around this would be to purchase data from a gardening company or gardening club. This might give him a set of users to start targeting. Additionally, he may decide to randomly send offers to people about gardening products to start building a labeled data set. Both of these require some type of investment."
   ]
  },
  {
   "cell_type": "markdown",
   "metadata": {},
   "source": [
    "***"
   ]
  },
  {
   "cell_type": "markdown",
   "metadata": {
    "collapsed": false
   },
   "source": [
    "### Part 2: Evaluation Metrics\n",
    "Answer each of the following questions. Please be precise by concise."
   ]
  },
  {
   "cell_type": "markdown",
   "metadata": {},
   "source": [
    "1\\. What are the problems with using accuracy to evaluate a model? **`[`*`10 points`*`]`**"
   ]
  },
  {
   "cell_type": "markdown",
   "metadata": {},
   "source": [
    "(1) accuracy does not account for the base rate of the data. If one of our outcomes is very rare, than a high accuracy will not tell us anything useful.\n",
    "\n",
    "(2) accuracy does not account for different costs and benefits associated with different predictions and people. Getting a certain type of mistake can be far more costly than another type of mistake. We often want to weight these benefits against each other."
   ]
  },
  {
   "cell_type": "markdown",
   "metadata": {},
   "source": [
    "2\\. Describe k-fold cross validation and it's advantages/disadvantages when compared to a simple, single hold-out data set. **`[`*`10 points`*`]`**"
   ]
  },
  {
   "cell_type": "markdown",
   "metadata": {},
   "source": [
    "K-fold cross validation will take our entire data set and split it into k equally sized folds (set of data). For example, in 10-fold cross validation we would randomly parition our data into sets of 10% of our original data set. Each record belongs to a single fold. We then take 9 folds, train our model, and then use the last fold to get a prediction. We do this 9 more times, where each fold gets a chance to be the test set and all other folds are used for training. Given 10 measures of test performance (e.g., accuracy or area under the ROC curve), we can average them to determine how well our model is doing.\n",
    "\n",
    "This is very useful when compared to a single hold-out data set. What if the single hold-out set had a bad split and we do really well on the test data? Cross validation allows each record to be used for testing! It also allows us to use more data for training!\n",
    "\n",
    "However, cross validation takes much longer to run than a single hold-out set would. In 10-fold CV it would take roughly 10 times longer!"
   ]
  },
  {
   "cell_type": "markdown",
   "metadata": {},
   "source": [
    "3\\. How does a modeler determine the costs and benefits of particular people and actions? Once they have this data they can build a cost/benefit matrix. What type of computation can they do to help them determine if they are making a good business decision? **`[`*`7 points`*`]`**"
   ]
  },
  {
   "cell_type": "markdown",
   "metadata": {},
   "source": [
    "A model would use his or her knowledge of the business problem being posed to get costs and benefits. For example, someone working in a hospital would use his knowledge of the medical field to determine the cost of a patient being diagnosed with cancer and getting treatment. Someone outside of the field would have difficulty getting this information.\n",
    "\n",
    "Once a modeler has this information, they could use the expected value computation (as part of the expected value framework) to determine the costs and benefits of certain model choices."
   ]
  },
  {
   "cell_type": "markdown",
   "metadata": {},
   "source": [
    "4\\. Consider two different ROC curves:\n",
    "\n",
    "- a line that goes from point (0, 0) to (1, 1), i.e., a 45-degreee line\n",
    "- a curve that goes from point (0, 0) to (0, 1) and then to (1, 1), i.e. a sharp 90-degree corner\n",
    "\n",
    "What is the area under each curve? What can you say about the ranking of all the records by their probability? Which of these is more desirable? **`[`*`8 points`*`]`**"
   ]
  },
  {
   "cell_type": "markdown",
   "metadata": {},
   "source": [
    "(a) The first curve would have an area of 0.5. This would correspond to a random classifier. We notice that the ranking of records doesn't tell us much. For every record we classify as positive, we get another one as a negative. This back and forth doesn't tell us much.\n",
    "\n",
    "(b) The second curve would have an area of 1.0. This would correspond to a perfect classifier. When all records are ranked by probability, we see that all of the records with a true positive label are above all the negative instances!\n",
    "\n",
    "We would always prefer curve (b). It's perfect!"
   ]
  },
  {
   "cell_type": "markdown",
   "metadata": {},
   "source": [
    "***"
   ]
  },
  {
   "cell_type": "markdown",
   "metadata": {},
   "source": [
    "### Part 3: Cost/Benefit Matrix\n",
    "1\\. Imagine that you work for an online advertising company that has just been hired to advertise a new local restaurant online. Let's say that it costs \\$0.015 to present a coupon ad to online consumers. If a consumer cashes in your coupon, you stand to earn \\$5. Given this information, what would your cost/benefit matrix be? Explain your reasoning briefly. **`[`*`10 points`*`]`**"
   ]
  },
  {
   "cell_type": "markdown",
   "metadata": {},
   "source": [
    "```\n",
    "      Y      N\n",
    "p  $4.985  $0.0\n",
    "n  -$0.015 $0.0\n",
    "```\n",
    "\n",
    "If we target a user that purchased we make \\$5.00 but lose \\$0.015 cents to send out the offer. If we send an offer to someone that doesn't buy, then we do not make \\$5.00 but still have the cost of \\$0.015 to send them the offer. We do not fill out the other side of the matrix as this would result in double counting."
   ]
  },
  {
   "cell_type": "markdown",
   "metadata": {},
   "source": [
    "***"
   ]
  },
  {
   "cell_type": "markdown",
   "metadata": {},
   "source": [
    "### Part 4. Hands-on"
   ]
  },
  {
   "cell_type": "markdown",
   "metadata": {},
   "source": [
    "For your hands-on excercise, I am going to ask you to build two ROC curves. For this example we will be using the `data/cell2cell.csv` data (this is the same data set we used in Homework 2).\n",
    "\n",
    "These historical data consist of 31,892 customers: 15,855 customers that churned (i.e., left the company) and 16,036 that did not churn. Here are the data set's 12 columns:\n",
    "\n",
    "```\n",
    "Col.  Var. Name  Var. Description\n",
    "----- ---------- --------------------------------------------------------------\n",
    "1     revenue    Mean monthly revenue in dollars\n",
    "2     outcalls   Mean number of outbound voice calls\n",
    "3     incalls    Mean number of inbound voice calls\n",
    "4     months     Months in Service\n",
    "5     eqpdays    Number of days the customer has had his/her current equipment\n",
    "6     webcap     Handset is web capable\n",
    "7     marryyes   Married (1=Yes; 0=No)\n",
    "8     travel     Has traveled to non-US country (1=Yes; 0=No)\n",
    "9     pcown      Owns a personal computer (1=Yes; 0=No)\n",
    "10    creditcd   Possesses a credit card (1=Yes; 0=No)\n",
    "11    retcalls   Number of calls previously made to retention team\n",
    "12    churndep   Did the customer churn (1=Yes; 0=No)\n",
    "```\n",
    "\n",
    "The first 11 columns are our attributes/features. The last column, `\"churndep\"`, is the target variable."
   ]
  },
  {
   "cell_type": "markdown",
   "metadata": {},
   "source": [
    "1\\. For this coding piece you should:\n",
    "- Randomly assign 75% of your data into training and the remaining 25% into test (we are not using cross-validation here since it is slightly more difficult to implement).\n",
    "- Train a logistic regression model and use the test data to get the data to create an ROC curve.\n",
    "- Train a decision tree model (`criterion=\"entropy\"`) and use the test data to get the data to create an ROC curve.\n",
    "- Plot both ROC curves on one plot (don't forget a legend so I can tell which curve is which)\n",
    "\n",
    "This is very similar to what we did in the Hands-on portion in Module 6. You should only really need to change the pieces with red-triple dots. **`[`*`15 points`*`]`**"
   ]
  },
  {
   "cell_type": "code",
   "execution_count": 1,
   "metadata": {
    "collapsed": false
   },
   "outputs": [
    {
     "data": {
      "image/png": "[encoded data removed]",
      "text/plain": [
       "<matplotlib.figure.Figure at 0x113026750>"
      ]
     },
     "metadata": {},
     "output_type": "display_data"
    }
   ],
   "source": [
    "import pandas as pd\n",
    "from sklearn.cross_validation import train_test_split\n",
    "from sklearn.tree import DecisionTreeClassifier\n",
    "from sklearn.linear_model import LogisticRegression\n",
    "from sklearn.metrics import roc_curve\n",
    "import matplotlib.pylab as plt\n",
    "%matplotlib inline\n",
    "\n",
    "# Read in our csv data\n",
    "data = pd.read_csv(\"data/cell2cell.csv\")\n",
    "\n",
    "# Put all features into X and the target variable into Y\n",
    "X = data.drop(['churndep'], 1)\n",
    "Y = data['churndep']\n",
    "\n",
    "# Split the data into 75% training and 25% testing\n",
    "X_train, X_test, Y_train, Y_test = train_test_split(X, Y, train_size=0.75)\n",
    "\n",
    "# Create both models\n",
    "tree = DecisionTreeClassifier(criterion=\"entropy\")\n",
    "logistic = LogisticRegression()\n",
    "\n",
    "# Fit both models\n",
    "tree.fit(X_train, Y_train)\n",
    "logistic.fit(X_train, Y_train)\n",
    "\n",
    "# Get probabilities for each model on the test data\n",
    "Y_test_probabilities_tree = tree.predict_proba(X_test)[:, 1]\n",
    "Y_test_probabilities_logistic = logistic.predict_proba(X_test)[:, 1]\n",
    "\n",
    "# Get TPR and FPR for each model\n",
    "fpr_tree, tpr_tree, thresholds_tree = roc_curve(Y_test, Y_test_probabilities_tree)\n",
    "fpr_logistic, tpr_logistic, thresholds_logistic = roc_curve(Y_test, Y_test_probabilities_logistic)\n",
    "    \n",
    "# Plot two ROC curves on one plot. Don't forget labels and your legend\n",
    "plt.plot(fpr_tree, tpr_tree, label=\"tree\")\n",
    "plt.plot(fpr_logistic, tpr_logistic, label=\"logistic\")\n",
    "plt.legend(loc=2)\n",
    "plt.show()"
   ]
  },
  {
   "cell_type": "markdown",
   "metadata": {},
   "source": [
    "2\\. Discuss your observations of the ROC curves above. Are they similar? How well are they doing? Do you like one more than the other? **[*5 points*]**."
   ]
  },
  {
   "cell_type": "markdown",
   "metadata": {},
   "source": [
    "By looking at the curves here, it looks like the logistic regression model will always outperform the decision tree model. While they are both not close to being perfect, they are doing better than random which does make them at least somewhat useful. If these were the only two models I had available to me, I would choose the logistic regression model."
   ]
  },
  {
   "cell_type": "markdown",
   "metadata": {},
   "source": [
    "3\\. These models are using their default complexity parameters (the decision tree can be very large and the logistic regression has no regularization). Do you think looking at just these two ROC curves is enough to pick the *best* model? What else might you want to explore to choose the best possible model? **[*5 points*]**."
   ]
  },
  {
   "cell_type": "markdown",
   "metadata": {},
   "source": [
    "These are the most basic trees and logistic regressions. I would like to try different levels of complexity for both models and look at those ROC curves. Given different levels of complexity, I might find that one model drastically outperforms all others!\n",
    "\n",
    "Also, while not simple, this procedure is using a single hold-out data set. I could augment it to use k-fold cross validation. We will probably not cover cross validation with ROC *curves*, but it is a possibility."
   ]
  },
  {
   "cell_type": "code",
   "execution_count": null,
   "metadata": {
    "collapsed": true
   },
   "outputs": [],
   "source": []
  }
 ],
 "metadata": {
  "kernelspec": {
   "display_name": "Python 2",
   "language": "python",
   "name": "python2"
  },
  "language_info": {
   "codemirror_mode": {
    "name": "ipython",
    "version": 2
   },
   "file_extension": ".py",
   "mimetype": "text/x-python",
   "name": "python",
   "nbconvert_exporter": "python",
   "pygments_lexer": "ipython2",
   "version": "2.7.8"
  }
 },
 "nbformat": 4,
 "nbformat_minor": 0
}
