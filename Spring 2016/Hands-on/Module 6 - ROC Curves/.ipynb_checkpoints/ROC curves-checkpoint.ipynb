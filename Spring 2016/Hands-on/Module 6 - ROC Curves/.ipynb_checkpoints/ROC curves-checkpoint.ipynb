{
 "cells": [
  {
   "cell_type": "markdown",
   "metadata": {},
   "source": [
    "# ROC curves\n",
    "Data Mining for Business Analytics\n",
    "\n",
    "Robert Moakler, Spring 2016\n",
    "***"
   ]
  },
  {
   "cell_type": "markdown",
   "metadata": {},
   "source": [
    "We start off as we usually do. Let's import some things that will be useful."
   ]
  },
  {
   "cell_type": "code",
   "execution_count": null,
   "metadata": {
    "collapsed": true
   },
   "outputs": [],
   "source": [
    "# Import pandas to read in data\n",
    "import pandas as pd\n",
    "import numpy as np\n",
    "\n",
    "# Import matplotlib for plotting\n",
    "import matplotlib.pylab as plt\n",
    "%matplotlib inline\n",
    "plt.rcParams['figure.figsize'] = 10, 8\n",
    "\n",
    "\n",
    "# Import decision trees and logistic regression\n",
    "from sklearn.tree import DecisionTreeClassifier\n",
    "from sklearn.linear_model import LogisticRegression\n",
    "\n",
    "# Import train, test, and evaluation functions\n",
    "from sklearn.cross_validation import train_test_split\n",
    "from sklearn.metrics import roc_curve\n",
    "from sklearn.metrics import roc_auc_score"
   ]
  },
  {
   "cell_type": "markdown",
   "metadata": {},
   "source": [
    "### Data\n",
    "We're going to use a mail response data set from a real direct marketing campaign located in `data/mailing.csv`. Each record represents an individual who was targeted with a direct marketing offer.  The offer was a solicitation to make a charitable donation. \n",
    "\n",
    "The columns (features) are:\n",
    "\n",
    "```\n",
    "Col.  Name      Description\n",
    "----- --------- ----------------------------------------------------------------\n",
    "1     income    household income\n",
    "2     Firstdate data assoc. with the first gift by this individual\n",
    "3     Lastdate  data associated with the most recent gift \n",
    "4     Amount    average amount by this individual over all periods (incl. zeros)\n",
    "5     rfaf2     frequency code\n",
    "6     rfaa2     donation amount code\n",
    "7     pepstrfl  flag indicating a star donator\n",
    "8     glast     amount of last gift\n",
    "9     gavr      amount of average gift\n",
    "10    class     one if they gave in this campaign and zero otherwise.\n",
    "```\n",
    "\n",
    "Our goal is to build a model to predict if people will give during the current campaign (this is the attribute called `\"class\"`)."
   ]
  },
  {
   "cell_type": "markdown",
   "metadata": {},
   "source": [
    "### Creating ROC curves\n",
    "Below we will create some ROC curves for a few different decision trees with varying complexities."
   ]
  },
  {
   "cell_type": "code",
   "execution_count": null,
   "metadata": {
    "collapsed": false
   },
   "outputs": [],
   "source": [
    "# Read in our csv data\n",
    "data = pd.read_csv(\"data/mailing.csv\")\n",
    "\n",
    "# Put all features into X and the target variable into Y\n",
    "X = data.drop(['class'], axis=1)\n",
    "Y = data['class']\n",
    "\n",
    "# Split the data into 75% training and 25% testing\n",
    "X_train, X_test, Y_train, Y_test = train_test_split(X, Y, train_size=0.75)\n",
    "\n",
    "for max_depth in range(10,15):\n",
    "    # Create an empty tree with the max depth I'm currently using\n",
    "    tree = DecisionTreeClassifier(criterion=\"entropy\", max_depth=max_depth)\n",
    "\n",
    "    # Fit my tree on training data\n",
    "    tree.fit(X_train, Y_train)\n",
    "\n",
    "    # Get probabilities for my tree on the test data\n",
    "    Y_test_probabilities = tree.predict_proba(X_test)[:, 1]\n",
    "\n",
    "    # Get TPR and FPR from my tree\n",
    "    fpr, tpr, thresholds = roc_curve(Y_test, Y_test_probabilities)\n",
    "\n",
    "    # Get area under the ROC curve\n",
    "    auc = roc_auc_score(Y_test, Y_test_probabilities)\n",
    "    \n",
    "    # I'm going to round the AUC to 2 decimal places\n",
    "    auc = round(auc, 2)\n",
    "    \n",
    "    # Plot my ROC curve and label it with my depth and AUROC\n",
    "    plt.plot(fpr, tpr, label=\"md=\" + str(max_depth) + \", AUC=\" + str(auc))\n",
    "\n",
    "# Add the random line and legend\n",
    "plt.plot([0,1], [0,1], 'k--', label=\"Random\")\n",
    "plt.legend(loc=2)\n",
    "\n",
    "# Show the plot\n",
    "plt.show()"
   ]
  },
  {
   "cell_type": "markdown",
   "metadata": {
    "collapsed": true
   },
   "source": [
    "### Team work\n",
    "Get together with your teams and try to create a plot with at least two ROC curves on it. One should be from a decision tree and one from a logistic regression. You can choose any complexity or complexities that you want.\n",
    "\n",
    "**Which model would you probably choose? Is it hard to tell?**"
   ]
  },
  {
   "cell_type": "code",
   "execution_count": null,
   "metadata": {
    "collapsed": false
   },
   "outputs": [],
   "source": [
    "# Read in our csv data\n",
    "data = pd.read_csv(\"data/mailing.csv\")\n",
    "\n",
    "# Put all features into X and the target variable into Y\n",
    "X = data.drop(['class'], axis=1)\n",
    "Y = data['class']\n",
    "\n",
    "# Split the data into 75% training and 25% testing\n",
    "X_train, X_test, Y_train, Y_test = train_test_split(X, Y, train_size=0.75)\n",
    "\n",
    "# Create empty models (at least two!)\n",
    "tree = DecisionTreeClassifier(criterion=\"entropy\", max_depth=...)\n",
    "logistic = LogisticRegression(C=...)\n",
    "\n",
    "# Train models on training data\n",
    "tree. ...\n",
    "logistic. ...\n",
    "\n",
    "# Get probabilities for my models on test data\n",
    "Y_test_probabilities_tree = tree.predict_proba(...)[:, 1]\n",
    "Y_test_probabilities_logistic = logistic.predict_proba(...)[:, 1]\n",
    "\n",
    "# Get TPR and FPR from my models\n",
    "fpr_tree, tpr_tree, thresholds_tree = roc_curve(Y_test, Y_test_probabilities_tree)\n",
    "fpr_logistic, tpr_logistic, thresholds_logistic = roc_curve(Y_test, Y_test_probabilities_logistic)\n",
    "\n",
    "# Plot ROC curves\n",
    "# Can you try to add the AUC to the label?\n",
    "plt.plot(fpr_tree, tpr_tree, label=\"tree\")\n",
    "plt.plot(fpr_logistic, tpr_logistic, label=\"logistic\")\n",
    "\n",
    "# Add the random line and legend\n",
    "plt.plot([0,1], [0,1], 'k--', label=\"Random\")\n",
    "plt.legend(loc=2)\n",
    "\n",
    "# Show the plot\n",
    "plt.show()"
   ]
  },
  {
   "cell_type": "code",
   "execution_count": null,
   "metadata": {
    "collapsed": true
   },
   "outputs": [],
   "source": []
  }
 ],
 "metadata": {
  "kernelspec": {
   "display_name": "Python 2",
   "language": "python",
   "name": "python2"
  },
  "language_info": {
   "codemirror_mode": {
    "name": "ipython",
    "version": 2
   },
   "file_extension": ".py",
   "mimetype": "text/x-python",
   "name": "python",
   "nbconvert_exporter": "python",
   "pygments_lexer": "ipython2",
   "version": "2.7.8"
  }
 },
 "nbformat": 4,
 "nbformat_minor": 0
}
