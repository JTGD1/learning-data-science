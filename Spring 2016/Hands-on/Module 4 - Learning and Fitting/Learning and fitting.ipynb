{
 "cells": [
  {
   "cell_type": "markdown",
   "metadata": {},
   "source": [
    "# Learning and fitting\n",
    "Data Mining for Business Analytics\n",
    "\n",
    "Robert Moakler, Spring 2016\n",
    "***"
   ]
  },
  {
   "cell_type": "markdown",
   "metadata": {},
   "source": [
    "We start off as we usually do. Let's import some things that will be useful."
   ]
  },
  {
   "cell_type": "code",
   "execution_count": null,
   "metadata": {
    "collapsed": true
   },
   "outputs": [],
   "source": [
    "# Import pandas to read in data\n",
    "import pandas as pd\n",
    "\n",
    "# Import matplotlib for plotting\n",
    "import matplotlib.pylab as plt\n",
    "%matplotlib inline\n",
    "\n",
    "# Import decision trees and logistic regression\n",
    "from sklearn.tree import DecisionTreeClassifier\n",
    "from sklearn.linear_model import LogisticRegression\n",
    "\n",
    "# Import train, test, and evaluation functions\n",
    "from sklearn.metrics import accuracy_score\n",
    "from sklearn.cross_validation import train_test_split"
   ]
  },
  {
   "cell_type": "markdown",
   "metadata": {},
   "source": [
    "### Data\n",
    "We're going to use a mail response data set from a real direct marketing campaign located in `data/mailing.csv`. Each record represents an individual who was targeted with a direct marketing offer.  The offer was a solicitation to make a charitable donation. \n",
    "\n",
    "The columns (features) are:\n",
    "\n",
    "```\n",
    "Col.  Name      Description\n",
    "----- --------- ----------------------------------------------------------------\n",
    "1     income    household income\n",
    "2     Firstdate data assoc. with the first gift by this individual\n",
    "3     Lastdate  data associated with the most recent gift \n",
    "4     Amount    average amount by this individual over all periods (incl. zeros)\n",
    "5     rfaf2     frequency code\n",
    "6     rfaa2     donation amount code\n",
    "7     pepstrfl  flag indicating a star donator\n",
    "8     glast     amount of last gift\n",
    "9     gavr      amount of average gift\n",
    "10    class     one if they gave in this campaign and zero otherwise.\n",
    "```\n",
    "\n",
    "Our goal is to build a model to predict if people will give during the current campaign (this is the attribute called `\"class\"`)."
   ]
  },
  {
   "cell_type": "markdown",
   "metadata": {},
   "source": [
    "Let's read our data in and put the target variable in `Y` and all the other features in `X`."
   ]
  },
  {
   "cell_type": "code",
   "execution_count": null,
   "metadata": {
    "collapsed": true
   },
   "outputs": [],
   "source": [
    "# Read data using pandas\n",
    "data = pd.read_csv(\"data/mailing.csv\")\n",
    "\n",
    "# Split into X and Y\n",
    "X = data.drop(['class'], 1)\n",
    "Y = data['class']"
   ]
  },
  {
   "cell_type": "markdown",
   "metadata": {},
   "source": [
    "### Learning curve"
   ]
  },
  {
   "cell_type": "markdown",
   "metadata": {},
   "source": [
    "Let's create a decision tree (using entropy) and fit it and use it on all of our data."
   ]
  },
  {
   "cell_type": "code",
   "execution_count": null,
   "metadata": {
    "collapsed": false
   },
   "outputs": [],
   "source": [
    "# Create an empty, unlearned tree\n",
    "tree = DecisionTreeClassifier(criterion=\"entropy\")\n",
    "\n",
    "# Fit/train the tree\n",
    "tree.fit(X, Y)\n",
    "\n",
    "# Get a prediction\n",
    "Y_predicted = tree.predict(X)\n",
    "\n",
    "# Get the accuracy of this prediction\n",
    "accuracy = accuracy_score(Y_predicted, Y)\n",
    "\n",
    "# Print the accuracy\n",
    "print \"The accuracy is \" + str(accuracy)"
   ]
  },
  {
   "cell_type": "markdown",
   "metadata": {},
   "source": [
    "That's a pretty high accuracy. We might be overfitting our data. The model might have \"memorized\" where all the points are. This does not lead to models that will generalize well.\n",
    "\n",
    "We can create training and testing sets very easily. Here we will create train and test sets of `X` and `Y` where we assign 70% of our data to training."
   ]
  },
  {
   "cell_type": "code",
   "execution_count": null,
   "metadata": {
    "collapsed": false
   },
   "outputs": [],
   "source": [
    "# Split X and Y into training and test\n",
    "X_train, X_test, Y_train, Y_test = train_test_split(X, Y, train_size=0.70)"
   ]
  },
  {
   "cell_type": "markdown",
   "metadata": {},
   "source": [
    "Now, let's look at the same decision tree but fit it with our training data and test it on our testing data."
   ]
  },
  {
   "cell_type": "code",
   "execution_count": null,
   "metadata": {
    "collapsed": false
   },
   "outputs": [],
   "source": [
    "# Create an empty, unlearned tree\n",
    "tree = DecisionTreeClassifier(criterion=\"entropy\")\n",
    "\n",
    "# Fit/train the tree on the training data\n",
    "tree.fit(X_train, Y_train)\n",
    "\n",
    "# Get a prediction from the tree on the test data\n",
    "Y_test_predicted = tree.predict(X_test)\n",
    "\n",
    "# Get the accuracy of this prediction\n",
    "accuracy = accuracy_score(Y_test_predicted, Y_test)\n",
    "\n",
    "# Print the accuracy\n",
    "print \"The accuracy is \" + str(accuracy)"
   ]
  },
  {
   "cell_type": "markdown",
   "metadata": {},
   "source": [
    "That's a pretty big difference! Which accuracy do you \"trust\" more? Why?"
   ]
  },
  {
   "cell_type": "markdown",
   "metadata": {},
   "source": [
    "### Team work\n",
    "I would like you to try a few different training data set sizes and a logistic regression model. Try assigning a few different percentages and check what the accuracy is. To show these results, generate a plot that has percentages on the x-axis and accuracies on the y-axis. Here is some code to get you started.\n",
    "\n",
    "Please work with your teams or neighbors to finish this!"
   ]
  },
  {
   "cell_type": "code",
   "execution_count": null,
   "metadata": {
    "collapsed": false
   },
   "outputs": [],
   "source": [
    "# Here are some percentages to get you started. Feel free to try more!\n",
    "training_percentages = [0.10, 0.20, 0.60, 0.80]\n",
    "accuracies = []\n",
    "\n",
    "for training_percentage in training_percentages:\n",
    "    # Here I am training on 70%. What should I change this to so that I can try many percentages?\n",
    "    X_train, X_test, Y_train, Y_test = train_test_split(X, Y, train_size=0.70)\n",
    "\n",
    "    # This will create an empty logistic regression\n",
    "    logistic = LogisticRegression()\n",
    "    \n",
    "    # This will fit/train your logistic regression\n",
    "    logistic.fit(...)\n",
    "    \n",
    "    # This will get predictions\n",
    "    Y_test_predicted = logistic.predict(...)\n",
    "    \n",
    "    # With these predictions we can get an accuracy. Where should we store this accuracy?\n",
    "    accuracy_score(..., ...)\n",
    "\n",
    "# We want to plot our results. What list should we use for the x-axis? What about the y-axis?\n",
    "plt.plot(what-are-your-xs?, what-are-your-ys?)\n",
    "plt.show()"
   ]
  },
  {
   "cell_type": "markdown",
   "metadata": {
    "collapsed": true
   },
   "source": [
    "### Fitting curve"
   ]
  },
  {
   "cell_type": "code",
   "execution_count": null,
   "metadata": {
    "collapsed": false
   },
   "outputs": [],
   "source": [
    "# Let's fit our training data size to 80%\n",
    "X_train, X_test, Y_train, Y_test = train_test_split(X, Y, train_size=0.80)\n",
    "\n",
    "# Let's try different max depths for a decision tree\n",
    "max_depths = range(1, 10)\n",
    "accuracies = []\n",
    "\n",
    "for max_depth in max_depths:\n",
    "    # This will create an empty decision tree at a specified max depth\n",
    "    tree = DecisionTreeClassifier(max_depth=max_depth)\n",
    "    \n",
    "    # This will fit/train your tree\n",
    "    tree.fit(X_train, Y_train)\n",
    "    \n",
    "    # This will get accuracy and keep track of it\n",
    "    Y_test_predicted = tree.predict(X_test)\n",
    "    accuracies.append(accuracy_score(Y_test_predicted, Y_test))\n",
    "\n",
    "# We want to plot our results\n",
    "plt.plot(max_depths, accuracies)\n",
    "plt.ylabel(\"Accuracy\")\n",
    "plt.xlabel(\"Max depth (model complexity)\")\n",
    "plt.show()"
   ]
  },
  {
   "cell_type": "code",
   "execution_count": null,
   "metadata": {
    "collapsed": true
   },
   "outputs": [],
   "source": []
  }
 ],
 "metadata": {
  "kernelspec": {
   "display_name": "Python 2",
   "language": "python",
   "name": "python2"
  },
  "language_info": {
   "codemirror_mode": {
    "name": "ipython",
    "version": 2
   },
   "file_extension": ".py",
   "mimetype": "text/x-python",
   "name": "python",
   "nbconvert_exporter": "python",
   "pygments_lexer": "ipython2",
   "version": "2.7.8"
  }
 },
 "nbformat": 4,
 "nbformat_minor": 0
}
